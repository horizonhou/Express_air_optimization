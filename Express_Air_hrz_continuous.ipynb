{
 "cells": [
  {
   "cell_type": "code",
   "execution_count": 1700,
   "id": "c5957a27",
   "metadata": {},
   "outputs": [],
   "source": [
    "import numpy as np\n",
    "import pandas as pd\n",
    "from gurobipy import *"
   ]
  },
  {
   "cell_type": "code",
   "execution_count": 1701,
   "id": "0b158d84",
   "metadata": {},
   "outputs": [],
   "source": [
    "# initiate cargo comes in for each day\n",
    "Monday = np.array([[0,100,50],[25,0,25],[40,400,0]])\n",
    "Tuesday = np.array([[0,200,50],[25,0,25],[40,200,0]])\n",
    "Wednesday = np.array([[0,100,50],[25,0,25],[40,300,0]])\n",
    "Thursday = np.array([[0,400,50],[25,0,25],[40,200,0]])\n",
    "Friday = np.array([[0,300,50],[25,0,25],[40,400,0]])"
   ]
  },
  {
   "cell_type": "code",
   "execution_count": 1702,
   "id": "4478c1b0",
   "metadata": {},
   "outputs": [],
   "source": [
    "cargo_lst = [Monday, Tuesday, Wednesday, Thursday, Friday]"
   ]
  },
  {
   "cell_type": "code",
   "execution_count": 1703,
   "id": "3aeff977",
   "metadata": {},
   "outputs": [
    {
     "data": {
      "text/plain": [
       "[array([[  0, 100,  50],\n",
       "        [ 25,   0,  25],\n",
       "        [ 40, 400,   0]]),\n",
       " array([[  0, 200,  50],\n",
       "        [ 25,   0,  25],\n",
       "        [ 40, 200,   0]]),\n",
       " array([[  0, 100,  50],\n",
       "        [ 25,   0,  25],\n",
       "        [ 40, 300,   0]]),\n",
       " array([[  0, 400,  50],\n",
       "        [ 25,   0,  25],\n",
       "        [ 40, 200,   0]]),\n",
       " array([[  0, 300,  50],\n",
       "        [ 25,   0,  25],\n",
       "        [ 40, 400,   0]])]"
      ]
     },
     "execution_count": 1703,
     "metadata": {},
     "output_type": "execute_result"
    }
   ],
   "source": [
    "cargo_lst"
   ]
  },
  {
   "cell_type": "code",
   "execution_count": 1704,
   "id": "0398e766",
   "metadata": {},
   "outputs": [],
   "source": [
    "# cost for empty repositioning flight\n",
    "repositioning_cost = np.array([[0,7,3],[7,0,6],[3,6,0]])"
   ]
  },
  {
   "cell_type": "code",
   "execution_count": 1705,
   "id": "6ea77fd2",
   "metadata": {},
   "outputs": [
    {
     "data": {
      "text/plain": [
       "array([[0, 7, 3],\n",
       "       [7, 0, 6],\n",
       "       [3, 6, 0]])"
      ]
     },
     "execution_count": 1705,
     "metadata": {},
     "output_type": "execute_result"
    }
   ],
   "source": [
    "repositioning_cost"
   ]
  },
  {
   "cell_type": "code",
   "execution_count": 1706,
   "id": "39345cd5",
   "metadata": {},
   "outputs": [],
   "source": [
    "num_airports = 3\n",
    "num_days = 5"
   ]
  },
  {
   "cell_type": "code",
   "execution_count": 1707,
   "id": "d3070f7d",
   "metadata": {},
   "outputs": [],
   "source": [
    "myVars = [[[0 for j in range (num_airports)] for i in range (num_airports)] for d in range(num_days)]"
   ]
  },
  {
   "cell_type": "code",
   "execution_count": 1708,
   "id": "129574fa",
   "metadata": {},
   "outputs": [],
   "source": [
    "#myVars"
   ]
  },
  {
   "cell_type": "code",
   "execution_count": 1709,
   "id": "3a9fe1dd",
   "metadata": {},
   "outputs": [],
   "source": [
    "airport_names = ['A','B','C']"
   ]
  },
  {
   "cell_type": "code",
   "execution_count": 1710,
   "id": "c262a8cd",
   "metadata": {},
   "outputs": [],
   "source": [
    "days = ['Monday','Tuesday','Wednesday','Thursday','Friday']"
   ]
  },
  {
   "cell_type": "code",
   "execution_count": 1711,
   "id": "fe22118c",
   "metadata": {},
   "outputs": [],
   "source": [
    "# create a new model\n",
    "myModel = Model(\"Express_Air\")\n",
    "\n",
    "# create decision variables and store them in the array myVars\n",
    "# decision variables Xijt denote number of flights with cargos from airport i to airport j on day t\n",
    "# Xijt is integer\n",
    "myVars = [[[0 for j in range (num_airports)] for i in range (num_airports)] for t in range(num_days)]\n",
    "for i in range(num_airports):\n",
    "    for j in range(num_airports):\n",
    "        for t in range(num_days):\n",
    "            if i != j:\n",
    "                curVar = myModel.addVar(vtype = GRB.INTEGER,\n",
    "                                           name = \"x\" + airport_names[i] + airport_names[j] + str(t+1))\n",
    "                myVars[t][i][j] = curVar\n",
    "\n",
    "# integrate decision variables into the model\n",
    "myModel.update()"
   ]
  },
  {
   "cell_type": "code",
   "execution_count": 1712,
   "id": "26bba2ca",
   "metadata": {},
   "outputs": [
    {
     "data": {
      "text/plain": [
       "[[[0, <gurobi.Var xAB1>, <gurobi.Var xAC1>],\n",
       "  [<gurobi.Var xBA1>, 0, <gurobi.Var xBC1>],\n",
       "  [<gurobi.Var xCA1>, <gurobi.Var xCB1>, 0]],\n",
       " [[0, <gurobi.Var xAB2>, <gurobi.Var xAC2>],\n",
       "  [<gurobi.Var xBA2>, 0, <gurobi.Var xBC2>],\n",
       "  [<gurobi.Var xCA2>, <gurobi.Var xCB2>, 0]],\n",
       " [[0, <gurobi.Var xAB3>, <gurobi.Var xAC3>],\n",
       "  [<gurobi.Var xBA3>, 0, <gurobi.Var xBC3>],\n",
       "  [<gurobi.Var xCA3>, <gurobi.Var xCB3>, 0]],\n",
       " [[0, <gurobi.Var xAB4>, <gurobi.Var xAC4>],\n",
       "  [<gurobi.Var xBA4>, 0, <gurobi.Var xBC4>],\n",
       "  [<gurobi.Var xCA4>, <gurobi.Var xCB4>, 0]],\n",
       " [[0, <gurobi.Var xAB5>, <gurobi.Var xAC5>],\n",
       "  [<gurobi.Var xBA5>, 0, <gurobi.Var xBC5>],\n",
       "  [<gurobi.Var xCA5>, <gurobi.Var xCB5>, 0]]]"
      ]
     },
     "execution_count": 1712,
     "metadata": {},
     "output_type": "execute_result"
    }
   ],
   "source": [
    "myVars"
   ]
  },
  {
   "cell_type": "code",
   "execution_count": 1713,
   "id": "00b2fdea",
   "metadata": {},
   "outputs": [],
   "source": [
    "# create decision variables Eijt denote empty flights from airport i to airport j on day t\n",
    "E_Vars = [[[0 for j in range (num_airports)] for i in range (num_airports)] for t in range(num_days)]\n",
    "for i in range(num_airports):\n",
    "    for j in range(num_airports):\n",
    "        for t in range(num_days):\n",
    "            #if i != j:\n",
    "                curVar = myModel.addVar(vtype = GRB.INTEGER,\n",
    "                                           name = \"E\" + airport_names[i] + airport_names[j] + str(t+1))\n",
    "                E_Vars[t][i][j] = curVar\n",
    "\n",
    "# integrate decision variables into the model\n",
    "myModel.update()"
   ]
  },
  {
   "cell_type": "code",
   "execution_count": 1714,
   "id": "f9541668",
   "metadata": {},
   "outputs": [
    {
     "data": {
      "text/plain": [
       "[[[<gurobi.Var EAA1>, <gurobi.Var EAB1>, <gurobi.Var EAC1>],\n",
       "  [<gurobi.Var EBA1>, <gurobi.Var EBB1>, <gurobi.Var EBC1>],\n",
       "  [<gurobi.Var ECA1>, <gurobi.Var ECB1>, <gurobi.Var ECC1>]],\n",
       " [[<gurobi.Var EAA2>, <gurobi.Var EAB2>, <gurobi.Var EAC2>],\n",
       "  [<gurobi.Var EBA2>, <gurobi.Var EBB2>, <gurobi.Var EBC2>],\n",
       "  [<gurobi.Var ECA2>, <gurobi.Var ECB2>, <gurobi.Var ECC2>]],\n",
       " [[<gurobi.Var EAA3>, <gurobi.Var EAB3>, <gurobi.Var EAC3>],\n",
       "  [<gurobi.Var EBA3>, <gurobi.Var EBB3>, <gurobi.Var EBC3>],\n",
       "  [<gurobi.Var ECA3>, <gurobi.Var ECB3>, <gurobi.Var ECC3>]],\n",
       " [[<gurobi.Var EAA4>, <gurobi.Var EAB4>, <gurobi.Var EAC4>],\n",
       "  [<gurobi.Var EBA4>, <gurobi.Var EBB4>, <gurobi.Var EBC4>],\n",
       "  [<gurobi.Var ECA4>, <gurobi.Var ECB4>, <gurobi.Var ECC4>]],\n",
       " [[<gurobi.Var EAA5>, <gurobi.Var EAB5>, <gurobi.Var EAC5>],\n",
       "  [<gurobi.Var EBA5>, <gurobi.Var EBB5>, <gurobi.Var EBC5>],\n",
       "  [<gurobi.Var ECA5>, <gurobi.Var ECB5>, <gurobi.Var ECC5>]]]"
      ]
     },
     "execution_count": 1714,
     "metadata": {},
     "output_type": "execute_result"
    }
   ],
   "source": [
    "E_Vars"
   ]
  },
  {
   "cell_type": "code",
   "execution_count": 1715,
   "id": "14e216dc",
   "metadata": {},
   "outputs": [],
   "source": [
    "# create decisons variables Lijt denote unshipped cargo from airport i to airport j on day t\n",
    "# create decision variables Eijt denote empty flights from airport i to airport j on day t\n",
    "L_Vars = [[[0 for j in range (num_airports)] for i in range (num_airports)] for t in range(num_days)]\n",
    "for i in range(num_airports):\n",
    "    for j in range(num_airports):\n",
    "        for t in range(num_days):\n",
    "            if i != j:\n",
    "                curVar = myModel.addVar(vtype = GRB.INTEGER,\n",
    "                                           name = \"L\" + airport_names[i] + airport_names[j] + str(t+1))\n",
    "                L_Vars[t][i][j] = curVar\n",
    "\n",
    "# integrate decision variables into the model\n",
    "myModel.update()"
   ]
  },
  {
   "cell_type": "code",
   "execution_count": 1716,
   "id": "0da35ad4",
   "metadata": {},
   "outputs": [
    {
     "data": {
      "text/plain": [
       "[[[0, <gurobi.Var LAB1>, <gurobi.Var LAC1>],\n",
       "  [<gurobi.Var LBA1>, 0, <gurobi.Var LBC1>],\n",
       "  [<gurobi.Var LCA1>, <gurobi.Var LCB1>, 0]],\n",
       " [[0, <gurobi.Var LAB2>, <gurobi.Var LAC2>],\n",
       "  [<gurobi.Var LBA2>, 0, <gurobi.Var LBC2>],\n",
       "  [<gurobi.Var LCA2>, <gurobi.Var LCB2>, 0]],\n",
       " [[0, <gurobi.Var LAB3>, <gurobi.Var LAC3>],\n",
       "  [<gurobi.Var LBA3>, 0, <gurobi.Var LBC3>],\n",
       "  [<gurobi.Var LCA3>, <gurobi.Var LCB3>, 0]],\n",
       " [[0, <gurobi.Var LAB4>, <gurobi.Var LAC4>],\n",
       "  [<gurobi.Var LBA4>, 0, <gurobi.Var LBC4>],\n",
       "  [<gurobi.Var LCA4>, <gurobi.Var LCB4>, 0]],\n",
       " [[0, <gurobi.Var LAB5>, <gurobi.Var LAC5>],\n",
       "  [<gurobi.Var LBA5>, 0, <gurobi.Var LBC5>],\n",
       "  [<gurobi.Var LCA5>, <gurobi.Var LCB5>, 0]]]"
      ]
     },
     "execution_count": 1716,
     "metadata": {},
     "output_type": "execute_result"
    }
   ],
   "source": [
    "L_Vars"
   ]
  },
  {
   "cell_type": "code",
   "execution_count": 1717,
   "id": "aa2aef1f",
   "metadata": {},
   "outputs": [],
   "source": [
    "# create decison variables Si denote starting number of aircrafts at airport i on day 1\n",
    "S_Vars = [0 for i in range (num_airports)]\n",
    "for i in range(num_airports):\n",
    "    curVar = myModel.addVar(vtype = GRB.INTEGER,\n",
    "                               name = \"S\" + airport_names[i])\n",
    "    S_Vars[i] = curVar\n",
    "\n",
    "# integrate decision variables into the model\n",
    "myModel.update()"
   ]
  },
  {
   "cell_type": "code",
   "execution_count": 1718,
   "id": "850261a2",
   "metadata": {},
   "outputs": [
    {
     "data": {
      "text/plain": [
       "[<gurobi.Var SA>, <gurobi.Var SB>, <gurobi.Var SC>]"
      ]
     },
     "execution_count": 1718,
     "metadata": {},
     "output_type": "execute_result"
    }
   ],
   "source": [
    "S_Vars"
   ]
  },
  {
   "cell_type": "code",
   "execution_count": 1719,
   "id": "5be7c827",
   "metadata": {},
   "outputs": [],
   "source": [
    "# create a linear expression for the objective\n",
    "objExpr = LinExpr()\n",
    "\n",
    "# add all repositioning cost\n",
    "for i in range(num_airports):\n",
    "    for j in range(num_airports):\n",
    "        for t in range(num_days):\n",
    "            #if i != j:\n",
    "                curVar = E_Vars[t][i][j]\n",
    "                objExpr += repositioning_cost[i][j] * curVar\n",
    "# add all landing cargo cost:\n",
    "for i in range(num_airports):\n",
    "    for j in range(num_airports):\n",
    "        for t in range(num_days):\n",
    "            if i != j:\n",
    "                curVar = L_Vars[t][i][j]\n",
    "                objExpr += 10 * curVar\n",
    "\n",
    "for i in range(num_airports):\n",
    "    for j in range(num_airports):\n",
    "        for t in range(num_days):\n",
    "            if i == j:\n",
    "                curVar = L_Vars[t][i][j]\n",
    "                objExpr += 0 * curVar\n",
    "            \n",
    "for i in range(num_airports):\n",
    "    for j in range(num_airports):\n",
    "        for t in range(num_days):\n",
    "            if i != j:\n",
    "                curVar = myVars[t][i][j]\n",
    "                objExpr += 0 * curVar\n",
    "\n",
    "for i in range(3):\n",
    "    curVar = S_Vars[i]\n",
    "    objExpr += 0 * curVar\n",
    "myModel.setObjective(objExpr, GRB.MINIMIZE)"
   ]
  },
  {
   "cell_type": "code",
   "execution_count": 1720,
   "id": "89da9851",
   "metadata": {},
   "outputs": [
    {
     "data": {
      "text/plain": [
       "<gurobi.LinExpr: 0.0 EAA1 + 0.0 EAA2 + 0.0 EAA3 + 0.0 EAA4 + 0.0 EAA5 + 7.0 EAB1 + 7.0 EAB2 + 7.0 EAB3 + 7.0 EAB4 + 7.0 EAB5 + 3.0 EAC1 + 3.0 EAC2 + 3.0 EAC3 + 3.0 EAC4 + 3.0 EAC5 + 7.0 EBA1 + 7.0 EBA2 + 7.0 EBA3 + 7.0 EBA4 + 7.0 EBA5 + 0.0 EBB1 + 0.0 EBB2 + 0.0 EBB3 + 0.0 EBB4 + 0.0 EBB5 + 6.0 EBC1 + 6.0 EBC2 + 6.0 EBC3 + 6.0 EBC4 + 6.0 EBC5 + 3.0 ECA1 + 3.0 ECA2 + 3.0 ECA3 + 3.0 ECA4 + 3.0 ECA5 + 6.0 ECB1 + 6.0 ECB2 + 6.0 ECB3 + 6.0 ECB4 + 6.0 ECB5 + 0.0 ECC1 + 0.0 ECC2 + 0.0 ECC3 + 0.0 ECC4 + 0.0 ECC5 + 10.0 LAB1 + 10.0 LAB2 + 10.0 LAB3 + 10.0 LAB4 + 10.0 LAB5 + 10.0 LAC1 + 10.0 LAC2 + 10.0 LAC3 + 10.0 LAC4 + 10.0 LAC5 + 10.0 LBA1 + 10.0 LBA2 + 10.0 LBA3 + 10.0 LBA4 + 10.0 LBA5 + 10.0 LBC1 + 10.0 LBC2 + 10.0 LBC3 + 10.0 LBC4 + 10.0 LBC5 + 10.0 LCA1 + 10.0 LCA2 + 10.0 LCA3 + 10.0 LCA4 + 10.0 LCA5 + 10.0 LCB1 + 10.0 LCB2 + 10.0 LCB3 + 10.0 LCB4 + 10.0 LCB5 + 0.0 xAB1 + 0.0 xAB2 + 0.0 xAB3 + 0.0 xAB4 + 0.0 xAB5 + 0.0 xAC1 + 0.0 xAC2 + 0.0 xAC3 + 0.0 xAC4 + 0.0 xAC5 + 0.0 xBA1 + 0.0 xBA2 + 0.0 xBA3 + 0.0 xBA4 + 0.0 xBA5 + 0.0 xBC1 + 0.0 xBC2 + 0.0 xBC3 + 0.0 xBC4 + 0.0 xBC5 + 0.0 xCA1 + 0.0 xCA2 + 0.0 xCA3 + 0.0 xCA4 + 0.0 xCA5 + 0.0 xCB1 + 0.0 xCB2 + 0.0 xCB3 + 0.0 xCB4 + 0.0 xCB5 + 0.0 SA + 0.0 SB + 0.0 SC>"
      ]
     },
     "execution_count": 1720,
     "metadata": {},
     "output_type": "execute_result"
    }
   ],
   "source": [
    "objExpr"
   ]
  },
  {
   "cell_type": "code",
   "execution_count": 1721,
   "id": "d16560de",
   "metadata": {},
   "outputs": [],
   "source": [
    "# create constraint so that total number of outflow for airport i at time 1 is equal to starting number Si \n",
    "for i in range(num_airports):\n",
    "    constExpr = LinExpr()\n",
    "    for j in range(num_airports):\n",
    "        # out of node\n",
    "        curVar = myVars[0][i][j]\n",
    "        constExpr += 1*curVar\n",
    "        #if i != j:\n",
    "        curVar1 = E_Vars[0][i][j]\n",
    "        constExpr += 1*curVar1\n",
    "        \n",
    "    myModel.addConstr(lhs = constExpr, sense = GRB.EQUAL, rhs = S_Vars[i], name = \"Monday\"+ 'airport'+ airport_names[i])\n",
    "    \n",
    "myModel.update()"
   ]
  },
  {
   "cell_type": "code",
   "execution_count": 1722,
   "id": "62e70b76",
   "metadata": {},
   "outputs": [],
   "source": [
    "# create constraint so that total number of outflow for airport i at time t is equal to inflow for airport i at time t \n",
    "for i in range(num_airports):\n",
    "    for t in range(1,num_days):\n",
    "        constExpr = LinExpr()\n",
    "        for j in range(num_airports):\n",
    "            # out of node\n",
    "            curVar = myVars[t][i][j]\n",
    "            constExpr += 1*curVar\n",
    "            #if i != j:\n",
    "            curVar1 = E_Vars[t][i][j]\n",
    "            constExpr += 1*curVar1\n",
    "            curVar2 = myVars[t-1][j][i]\n",
    "            constExpr -= curVar2\n",
    "            #if i != j:\n",
    "            curVar3 = E_Vars[t-1][j][i]\n",
    "            constExpr -= curVar3\n",
    "\n",
    "        myModel.addConstr(lhs = constExpr, sense = GRB.EQUAL, rhs = 0, name = days[t] + 'airport' + airport_names[i])\n",
    "    \n",
    "myModel.update()"
   ]
  },
  {
   "cell_type": "code",
   "execution_count": 1723,
   "id": "c06cca41",
   "metadata": {},
   "outputs": [],
   "source": [
    "# create constraint so that total number of inflow for airport i at time 5 is equal to starting number Si \n",
    "for i in range(num_airports):\n",
    "    constExpr = LinExpr()\n",
    "    for j in range(num_airports):\n",
    "        # out of node\n",
    "        curVar = myVars[4][j][i]\n",
    "        constExpr += 1*curVar\n",
    "        #if i != j:\n",
    "        curVar1 = E_Vars[4][j][i]\n",
    "        constExpr += 1*curVar1\n",
    "        \n",
    "    myModel.addConstr(lhs = constExpr, sense = GRB.EQUAL, rhs = S_Vars[i], name = \"EndofWeek\"+ 'airport'+ airport_names[i])\n",
    "    \n",
    "myModel.update()"
   ]
  },
  {
   "cell_type": "code",
   "execution_count": 1724,
   "id": "102160bf",
   "metadata": {},
   "outputs": [],
   "source": [
    "# create constraint so that total number of flights is 1200\n",
    "constExpr = LinExpr()\n",
    "for i in range(num_airports):\n",
    "    curVar = S_Vars[i]\n",
    "    constExpr += 1*curVar\n",
    "        \n",
    "myModel.addConstr(lhs = constExpr, sense = GRB.EQUAL, rhs = 1200, name = \"NumberofAircrafts\")\n",
    "    \n",
    "myModel.update()"
   ]
  },
  {
   "cell_type": "code",
   "execution_count": 1725,
   "id": "f96d4cd4",
   "metadata": {},
   "outputs": [],
   "source": [
    "# Create constraint so that number of landing cargos equals amount need to be shipped minus amount really shipped\n",
    "# for Monday\n",
    "for i in range(num_airports):\n",
    "    for j in range(num_airports):\n",
    "        if i != j:\n",
    "            constExpr1 = LinExpr()\n",
    "            constExpr2 = LinExpr()\n",
    "            curVar = L_Vars[0][i][j]\n",
    "            curVar0 = L_Vars[4][i][j]\n",
    "            curVar1 = cargo_lst[0][i][j]\n",
    "            curVar2 = myVars[0][i][j]\n",
    "            constExpr1 += 1*curVar - 1*curVar0 + 1*curVar2\n",
    "            constExpr2 += 1*curVar1\n",
    "            myModel.addConstr(lhs = constExpr1, sense = GRB.EQUAL, rhs = constExpr2, name = 'StartLandingCargos'+'Monday'+airport_names[i]+airport_names[j])"
   ]
  },
  {
   "cell_type": "code",
   "execution_count": 1726,
   "id": "f6912613",
   "metadata": {},
   "outputs": [
    {
     "data": {
      "text/plain": [
       "\"\\nfor i in range(num_airports):\\n    for j in range(num_airports):\\n        if i != j:\\n            constExpr = LinExpr()\\n            curVar = L_Vars[4][i][j]\\n            constExpr += 1*curVar\\n            myModel.addConstr(lhs = constExpr, sense = GRB.EQUAL, rhs = 0, name = 'FinalLandingCargos'+days[t]+airport_names[i]+airport_names[j])\\n\""
      ]
     },
     "execution_count": 1726,
     "metadata": {},
     "output_type": "execute_result"
    }
   ],
   "source": [
    "# for Tues,Weds,Thurs\n",
    "for i in range(num_airports):\n",
    "    for j in range(num_airports):\n",
    "        for t in range(1, num_days):\n",
    "            if i != j:\n",
    "                constExpr1 = LinExpr()\n",
    "                constExpr2 = LinExpr()\n",
    "                curVar = L_Vars[t][i][j]\n",
    "                curVar0 = L_Vars[t-1][i][j]\n",
    "                curVar1 = cargo_lst[t][i][j]\n",
    "                curVar2 = myVars[t][i][j]\n",
    "                constExpr1 += 1*curVar - 1*curVar0 + 1*curVar2\n",
    "                constExpr2 += 1*curVar1\n",
    "                myModel.addConstr(lhs = constExpr1, sense = GRB.EQUAL, rhs = constExpr2, name = 'LandingCargos'+days[t]+airport_names[i]+airport_names[j])\n",
    "# for Friday\n",
    "'''\n",
    "for i in range(num_airports):\n",
    "    for j in range(num_airports):\n",
    "        if i != j:\n",
    "            constExpr = LinExpr()\n",
    "            curVar = L_Vars[4][i][j]\n",
    "            constExpr += 1*curVar\n",
    "            myModel.addConstr(lhs = constExpr, sense = GRB.EQUAL, rhs = 0, name = 'FinalLandingCargos'+days[t]+airport_names[i]+airport_names[j])\n",
    "'''\n",
    " "
   ]
  },
  {
   "cell_type": "code",
   "execution_count": 1727,
   "id": "d80af34e",
   "metadata": {},
   "outputs": [
    {
     "data": {
      "text/plain": [
       "\"\\n# sum delivered equals sum need to be delivered \\nfor i in range(num_airports):\\n    for j in range(num_airports):\\n        if i != j:\\n            constExpr = LinExpr()\\n            for t in range(num_days):\\n                # out of node\\n                curVar = myVars[t][i][j]\\n                constExpr += 1*curVar\\n                curVar1 = cargo_lst[t][i][j]\\n                constExpr -= 1*curVar1\\n\\n            myModel.addConstr(lhs = constExpr, sense = GRB.EQUAL, rhs = 0, name = 'cargo' + airport_names[i]+airport_names[j])\\n\\nmyModel.update()\\n\""
      ]
     },
     "execution_count": 1727,
     "metadata": {},
     "output_type": "execute_result"
    }
   ],
   "source": [
    "'''\n",
    "# sum delivered equals sum need to be delivered \n",
    "for i in range(num_airports):\n",
    "    for j in range(num_airports):\n",
    "        if i != j:\n",
    "            constExpr = LinExpr()\n",
    "            for t in range(num_days):\n",
    "                # out of node\n",
    "                curVar = myVars[t][i][j]\n",
    "                constExpr += 1*curVar\n",
    "                curVar1 = cargo_lst[t][i][j]\n",
    "                constExpr -= 1*curVar1\n",
    "\n",
    "            myModel.addConstr(lhs = constExpr, sense = GRB.EQUAL, rhs = 0, name = 'cargo' + airport_names[i]+airport_names[j])\n",
    "\n",
    "myModel.update()\n",
    "'''"
   ]
  },
  {
   "cell_type": "code",
   "execution_count": 1728,
   "id": "59688e3a",
   "metadata": {
    "scrolled": false
   },
   "outputs": [
    {
     "data": {
      "text/plain": [
       "\"\\n# each time delivered must be less than or equal to current amount of cargos\\nfor i in range(num_airports):\\n    for j in range(num_airports):\\n        if i != j:\\n            for t in range(1,num_days):\\n                constExpr1 = LinExpr()\\n                constExpr2 = LinExpr()\\n                # out of node\\n                curVar = myVars[t][i][j]\\n                constExpr1 += 1*curVar\\n                curVar1 = cargo_lst[t][i][j]\\n                constExpr2 += 1*curVar1\\n                curVar2 = L_Vars[t-1][i][j]\\n                constExpr2 += 1*curVar2\\n\\n                myModel.addConstr(lhs = constExpr1, sense = GRB.LESS_EQUAL, rhs = constExpr2, name = 'Capacity' + airport_names[i]+airport_names[j]+days[t])\\n\\nmyModel.update()\\n\""
      ]
     },
     "execution_count": 1728,
     "metadata": {},
     "output_type": "execute_result"
    }
   ],
   "source": [
    "'''\n",
    "# each time delivered must be less than or equal to current amount of cargos\n",
    "for i in range(num_airports):\n",
    "    for j in range(num_airports):\n",
    "        if i != j:\n",
    "            for t in range(1,num_days):\n",
    "                constExpr1 = LinExpr()\n",
    "                constExpr2 = LinExpr()\n",
    "                # out of node\n",
    "                curVar = myVars[t][i][j]\n",
    "                constExpr1 += 1*curVar\n",
    "                curVar1 = cargo_lst[t][i][j]\n",
    "                constExpr2 += 1*curVar1\n",
    "                curVar2 = L_Vars[t-1][i][j]\n",
    "                constExpr2 += 1*curVar2\n",
    "\n",
    "                myModel.addConstr(lhs = constExpr1, sense = GRB.LESS_EQUAL, rhs = constExpr2, name = 'Capacity' + airport_names[i]+airport_names[j]+days[t])\n",
    "\n",
    "myModel.update()\n",
    "'''"
   ]
  },
  {
   "cell_type": "code",
   "execution_count": 1729,
   "id": "4beaf7b0",
   "metadata": {
    "scrolled": true
   },
   "outputs": [
    {
     "data": {
      "text/plain": [
       "200"
      ]
     },
     "execution_count": 1729,
     "metadata": {},
     "output_type": "execute_result"
    }
   ],
   "source": [
    "cargo_lst[1][2][1]"
   ]
  },
  {
   "cell_type": "code",
   "execution_count": 1730,
   "id": "ff64ef8b",
   "metadata": {},
   "outputs": [],
   "source": [
    "# write the model in a file to make sure it is constructed correctly\n",
    "myModel.write(filename = \"Express_Air.lp\")"
   ]
  },
  {
   "cell_type": "code",
   "execution_count": 1731,
   "id": "1b701c9b",
   "metadata": {},
   "outputs": [
    {
     "name": "stdout",
     "output_type": "stream",
     "text": [
      "Gurobi Optimizer version 9.5.2 build v9.5.2rc0 (mac64[x86])\n",
      "Thread count: 8 physical cores, 16 logical processors, using up to 16 threads\n",
      "Optimize a model with 49 rows, 108 columns and 249 nonzeros\n",
      "Model fingerprint: 0xcedfc35f\n",
      "Variable types: 0 continuous, 108 integer (0 binary)\n",
      "Coefficient statistics:\n",
      "  Matrix range     [1e+00, 1e+00]\n",
      "  Objective range  [3e+00, 1e+01]\n",
      "  Bounds range     [0e+00, 0e+00]\n",
      "  RHS range        [2e+01, 1e+03]\n",
      "Presolve removed 1 rows and 1 columns\n",
      "Presolve time: 0.00s\n",
      "Presolved: 48 rows, 107 columns, 248 nonzeros\n",
      "Variable types: 0 continuous, 107 integer (0 binary)\n",
      "\n",
      "Root relaxation: objective 1.792500e+04, 25 iterations, 0.00 seconds (0.00 work units)\n",
      "\n",
      "    Nodes    |    Current Node    |     Objective Bounds      |     Work\n",
      " Expl Unexpl |  Obj  Depth IntInf | Incumbent    BestBd   Gap | It/Node Time\n",
      "\n",
      "*    0     0               0    17925.000000 17925.0000  0.00%     -    0s\n",
      "\n",
      "Explored 1 nodes (25 simplex iterations) in 0.02 seconds (0.00 work units)\n",
      "Thread count was 16 (of 16 available processors)\n",
      "\n",
      "Solution count 1: 17925 \n",
      "\n",
      "Optimal solution found (tolerance 1.00e-04)\n",
      "Best objective 1.792500000000e+04, best bound 1.792500000000e+04, gap 0.0000%\n"
     ]
    }
   ],
   "source": [
    "# optimize the model\n",
    "myModel.optimize()"
   ]
  },
  {
   "cell_type": "code",
   "execution_count": 1732,
   "id": "e85facde",
   "metadata": {},
   "outputs": [
    {
     "name": "stdout",
     "output_type": "stream",
     "text": [
      "\n",
      "Optimal Objective: 17925.0\n",
      "\n",
      "Optimal Solution:\n",
      "xAB1 200.0\n",
      "xAB2 290.0\n",
      "xAB3 100.0\n",
      "xAB4 400.0\n",
      "xAB5 110.0\n",
      "xAC1 50.0\n",
      "xAC2 50.0\n",
      "xAC3 50.0\n",
      "xAC4 50.0\n",
      "xAC5 50.0\n",
      "xBA1 25.0\n",
      "xBA2 25.0\n",
      "xBA3 25.0\n",
      "xBA4 25.0\n",
      "xBA5 25.0\n",
      "xBC1 25.0\n",
      "xBC2 25.0\n",
      "xBC3 25.0\n",
      "xBC4 25.0\n",
      "xBC5 25.0\n",
      "xCA1 40.0\n",
      "xCA2 40.0\n",
      "xCA3 40.0\n",
      "xCA4 40.0\n",
      "xCA5 40.0\n",
      "xCB1 400.0\n",
      "xCB2 200.0\n",
      "xCB3 300.0\n",
      "xCB4 200.0\n",
      "xCB5 400.0\n",
      "EAA1 -0.0\n",
      "EAA2 -0.0\n",
      "EAA3 220.0\n",
      "EAA4 -0.0\n",
      "EAA5 -0.0\n",
      "EAB1 -0.0\n",
      "EAB2 -0.0\n",
      "EAB3 -0.0\n",
      "EAB4 -0.0\n",
      "EAB5 -0.0\n",
      "EAC1 -0.0\n",
      "EAC2 -0.0\n",
      "EAC3 -0.0\n",
      "EAC4 -0.0\n",
      "EAC5 -0.0\n",
      "EBA1 275.0\n",
      "EBA2 305.0\n",
      "EBA3 165.0\n",
      "EBA4 95.0\n",
      "EBA5 185.0\n",
      "EBB1 -0.0\n",
      "EBB2 -0.0\n",
      "EBB3 -0.0\n",
      "EBB4 -0.0\n",
      "EBB5 -0.0\n",
      "EBC1 185.0\n",
      "EBC2 245.0\n",
      "EBC3 275.0\n",
      "EBC4 255.0\n",
      "EBC5 365.0\n",
      "ECA1 -0.0\n",
      "ECA2 -0.0\n",
      "ECA3 -0.0\n",
      "ECA4 -0.0\n",
      "ECA5 -0.0\n",
      "ECB1 -0.0\n",
      "ECB2 -0.0\n",
      "ECB3 -0.0\n",
      "ECB4 -0.0\n",
      "ECB5 -0.0\n",
      "ECC1 -0.0\n",
      "ECC2 20.0\n",
      "ECC3 -0.0\n",
      "ECC4 110.0\n",
      "ECC5 -0.0\n",
      "LAB1 90.0\n",
      "LAB2 -0.0\n",
      "LAB3 -0.0\n",
      "LAB4 -0.0\n",
      "LAB5 190.0\n",
      "LAC1 -0.0\n",
      "LAC2 -0.0\n",
      "LAC3 -0.0\n",
      "LAC4 -0.0\n",
      "LAC5 -0.0\n",
      "LBA1 -0.0\n",
      "LBA2 -0.0\n",
      "LBA3 -0.0\n",
      "LBA4 -0.0\n",
      "LBA5 -0.0\n",
      "LBC1 -0.0\n",
      "LBC2 -0.0\n",
      "LBC3 -0.0\n",
      "LBC4 -0.0\n",
      "LBC5 -0.0\n",
      "LCA1 -0.0\n",
      "LCA2 -0.0\n",
      "LCA3 -0.0\n",
      "LCA4 -0.0\n",
      "LCA5 -0.0\n",
      "LCB1 -0.0\n",
      "LCB2 -0.0\n",
      "LCB3 -0.0\n",
      "LCB4 -0.0\n",
      "LCB5 -0.0\n",
      "SA 250.0\n",
      "SB 510.0\n",
      "SC 440.0\n"
     ]
    }
   ],
   "source": [
    "# print optimal objective and optimal solution\n",
    "print(\"\\nOptimal Objective: \" + str(myModel.ObjVal))\n",
    "print(\"\\nOptimal Solution:\")\n",
    "allVars = myModel.getVars()\n",
    "for curVar in allVars:\n",
    "    print(curVar.varName + \" \" + str(curVar.x))"
   ]
  },
  {
   "cell_type": "code",
   "execution_count": 1733,
   "id": "ed93fa92",
   "metadata": {},
   "outputs": [],
   "source": [
    "decision_variables = [y.x for y in allVars]"
   ]
  },
  {
   "cell_type": "code",
   "execution_count": 1734,
   "id": "290895ba",
   "metadata": {},
   "outputs": [],
   "source": [
    "Xijt = np.array(decision_variables[:30]).reshape(6,5)"
   ]
  },
  {
   "cell_type": "code",
   "execution_count": 1735,
   "id": "87667ec0",
   "metadata": {},
   "outputs": [
    {
     "data": {
      "text/plain": [
       "array([[200., 290., 100., 400., 110.],\n",
       "       [ 50.,  50.,  50.,  50.,  50.],\n",
       "       [ 25.,  25.,  25.,  25.,  25.],\n",
       "       [ 25.,  25.,  25.,  25.,  25.],\n",
       "       [ 40.,  40.,  40.,  40.,  40.],\n",
       "       [400., 200., 300., 200., 400.]])"
      ]
     },
     "execution_count": 1735,
     "metadata": {},
     "output_type": "execute_result"
    }
   ],
   "source": [
    "Xijt"
   ]
  },
  {
   "cell_type": "code",
   "execution_count": 1736,
   "id": "281be7d2",
   "metadata": {},
   "outputs": [],
   "source": [
    "Eijt = np.array(decision_variables[30:75]).reshape(9,5)"
   ]
  },
  {
   "cell_type": "code",
   "execution_count": 1737,
   "id": "78eaae03",
   "metadata": {},
   "outputs": [
    {
     "data": {
      "text/plain": [
       "array([[ -0.,  -0., 220.,  -0.,  -0.],\n",
       "       [ -0.,  -0.,  -0.,  -0.,  -0.],\n",
       "       [ -0.,  -0.,  -0.,  -0.,  -0.],\n",
       "       [275., 305., 165.,  95., 185.],\n",
       "       [ -0.,  -0.,  -0.,  -0.,  -0.],\n",
       "       [185., 245., 275., 255., 365.],\n",
       "       [ -0.,  -0.,  -0.,  -0.,  -0.],\n",
       "       [ -0.,  -0.,  -0.,  -0.,  -0.],\n",
       "       [ -0.,  20.,  -0., 110.,  -0.]])"
      ]
     },
     "execution_count": 1737,
     "metadata": {},
     "output_type": "execute_result"
    }
   ],
   "source": [
    "Eijt"
   ]
  },
  {
   "cell_type": "code",
   "execution_count": 1738,
   "id": "7b58f7fd",
   "metadata": {},
   "outputs": [],
   "source": [
    "Lijt = np.array(decision_variables[75:105]).reshape(6,5)"
   ]
  },
  {
   "cell_type": "code",
   "execution_count": 1739,
   "id": "96539756",
   "metadata": {},
   "outputs": [
    {
     "data": {
      "text/plain": [
       "array([[ 90.,  -0.,  -0.,  -0., 190.],\n",
       "       [ -0.,  -0.,  -0.,  -0.,  -0.],\n",
       "       [ -0.,  -0.,  -0.,  -0.,  -0.],\n",
       "       [ -0.,  -0.,  -0.,  -0.,  -0.],\n",
       "       [ -0.,  -0.,  -0.,  -0.,  -0.],\n",
       "       [ -0.,  -0.,  -0.,  -0.,  -0.]])"
      ]
     },
     "execution_count": 1739,
     "metadata": {},
     "output_type": "execute_result"
    }
   ],
   "source": [
    "Lijt"
   ]
  },
  {
   "cell_type": "code",
   "execution_count": 1740,
   "id": "9bb7e65f",
   "metadata": {},
   "outputs": [],
   "source": [
    "S_ = np.array(decision_variables[105:]).reshape(3,1)"
   ]
  },
  {
   "cell_type": "code",
   "execution_count": 1741,
   "id": "5d078b1b",
   "metadata": {
    "scrolled": false
   },
   "outputs": [
    {
     "data": {
      "text/plain": [
       "array([[250.],\n",
       "       [510.],\n",
       "       [440.]])"
      ]
     },
     "execution_count": 1741,
     "metadata": {},
     "output_type": "execute_result"
    }
   ],
   "source": [
    "S_"
   ]
  },
  {
   "cell_type": "code",
   "execution_count": 1744,
   "id": "19eebf23",
   "metadata": {},
   "outputs": [
    {
     "data": {
      "text/plain": [
       "<gurobi.Model MIP instance Express_Air: 49 constrs, 108 vars, No parameter changes>"
      ]
     },
     "execution_count": 1744,
     "metadata": {},
     "output_type": "execute_result"
    }
   ],
   "source": [
    "myModel"
   ]
  },
  {
   "cell_type": "code",
   "execution_count": 1743,
   "id": "3af7511c",
   "metadata": {},
   "outputs": [
    {
     "ename": "TypeError",
     "evalue": "'int' object is not callable",
     "output_type": "error",
     "traceback": [
      "\u001b[0;31m---------------------------------------------------------------------------\u001b[0m",
      "\u001b[0;31mTypeError\u001b[0m                                 Traceback (most recent call last)",
      "\u001b[0;32m<ipython-input-1743-302a35b38dfb>\u001b[0m in \u001b[0;36m<module>\u001b[0;34m\u001b[0m\n\u001b[0;32m----> 1\u001b[0;31m \u001b[0;32mif\u001b[0m \u001b[0;32mnot\u001b[0m \u001b[0mmyModel\u001b[0m\u001b[0;34m.\u001b[0m\u001b[0misMIP\u001b[0m\u001b[0;34m(\u001b[0m\u001b[0;34m)\u001b[0m\u001b[0;34m:\u001b[0m\u001b[0;34m\u001b[0m\u001b[0;34m\u001b[0m\u001b[0m\n\u001b[0m\u001b[1;32m      2\u001b[0m     \u001b[0;31m# The model is not a MIP, so it has a dual solution\u001b[0m\u001b[0;34m\u001b[0m\u001b[0;34m\u001b[0m\u001b[0;34m\u001b[0m\u001b[0m\n\u001b[1;32m      3\u001b[0m     \u001b[0mprint\u001b[0m\u001b[0;34m(\u001b[0m\u001b[0;34m\"The model has a dual solution.\"\u001b[0m\u001b[0;34m)\u001b[0m\u001b[0;34m\u001b[0m\u001b[0;34m\u001b[0m\u001b[0m\n\u001b[1;32m      4\u001b[0m \u001b[0;32melse\u001b[0m\u001b[0;34m:\u001b[0m\u001b[0;34m\u001b[0m\u001b[0;34m\u001b[0m\u001b[0m\n\u001b[1;32m      5\u001b[0m     \u001b[0;31m# The model is a MIP, so it may or may not have a dual solution\u001b[0m\u001b[0;34m\u001b[0m\u001b[0;34m\u001b[0m\u001b[0;34m\u001b[0m\u001b[0m\n",
      "\u001b[0;31mTypeError\u001b[0m: 'int' object is not callable"
     ]
    }
   ],
   "source": [
    "if not myModel.isMIP():\n",
    "    # The model is not a MIP, so it has a dual solution\n",
    "    print(\"The model has a dual solution.\")\n",
    "else:\n",
    "    # The model is a MIP, so it may or may not have a dual solution\n",
    "    print(\"The model may or may not have a dual solution.\")"
   ]
  },
  {
   "cell_type": "code",
   "execution_count": null,
   "id": "3cfdf584",
   "metadata": {},
   "outputs": [],
   "source": []
  },
  {
   "cell_type": "code",
   "execution_count": 1677,
   "id": "9c5c3433",
   "metadata": {},
   "outputs": [
    {
     "ename": "AttributeError",
     "evalue": "Unable to retrieve attribute 'Pi'",
     "output_type": "error",
     "traceback": [
      "\u001b[0;31m---------------------------------------------------------------------------\u001b[0m",
      "\u001b[0;31mAttributeError\u001b[0m                            Traceback (most recent call last)",
      "\u001b[0;32m<ipython-input-1677-6e22b31f7c57>\u001b[0m in \u001b[0;36m<module>\u001b[0;34m\u001b[0m\n\u001b[1;32m      1\u001b[0m \u001b[0mconstr1\u001b[0m \u001b[0;34m=\u001b[0m \u001b[0mmyModel\u001b[0m\u001b[0;34m.\u001b[0m\u001b[0mgetConstrByName\u001b[0m\u001b[0;34m(\u001b[0m\u001b[0;34m'LandingCargosTuesdayAC'\u001b[0m\u001b[0;34m)\u001b[0m\u001b[0;34m\u001b[0m\u001b[0;34m\u001b[0m\u001b[0m\n\u001b[0;32m----> 2\u001b[0;31m \u001b[0mconstr1\u001b[0m\u001b[0;34m.\u001b[0m\u001b[0mPi\u001b[0m\u001b[0;34m\u001b[0m\u001b[0;34m\u001b[0m\u001b[0m\n\u001b[0m",
      "\u001b[0;32msrc/gurobipy/constr.pxi\u001b[0m in \u001b[0;36mgurobipy.Constr.__getattr__\u001b[0;34m()\u001b[0m\n",
      "\u001b[0;32msrc/gurobipy/constr.pxi\u001b[0m in \u001b[0;36mgurobipy.Constr.getAttr\u001b[0;34m()\u001b[0m\n",
      "\u001b[0;32msrc/gurobipy/attrutil.pxi\u001b[0m in \u001b[0;36mgurobipy.__getattr\u001b[0;34m()\u001b[0m\n",
      "\u001b[0;31mAttributeError\u001b[0m: Unable to retrieve attribute 'Pi'"
     ]
    }
   ],
   "source": [
    "constr1 = myModel.getConstrByName('LandingCargosTuesdayAC')\n",
    "constr1.Pi"
   ]
  },
  {
   "cell_type": "code",
   "execution_count": 1678,
   "id": "d5300f9b",
   "metadata": {},
   "outputs": [
    {
     "name": "stdout",
     "output_type": "stream",
     "text": [
      "Sensitivity Analysis (SA)\n",
      "ObjVal = 17925.0\n",
      "\n",
      "    Variable            X          Obj     SAObjLow      SAObjUp \n",
      "----------------------------------------------------------------\n"
     ]
    },
    {
     "ename": "GurobiError",
     "evalue": "Unable to retrieve attribute 'SAObjLow'",
     "output_type": "error",
     "traceback": [
      "\u001b[0;31m---------------------------------------------------------------------------\u001b[0m",
      "\u001b[0;31mGurobiError\u001b[0m                               Traceback (most recent call last)",
      "\u001b[0;32m<ipython-input-1678-3ac6ceed079c>\u001b[0m in \u001b[0;36m<module>\u001b[0;34m\u001b[0m\n\u001b[1;32m      1\u001b[0m \u001b[0mprint\u001b[0m\u001b[0;34m(\u001b[0m\u001b[0;34m'Sensitivity Analysis (SA)\\nObjVal ='\u001b[0m\u001b[0;34m,\u001b[0m \u001b[0mmyModel\u001b[0m\u001b[0;34m.\u001b[0m\u001b[0mObjVal\u001b[0m\u001b[0;34m)\u001b[0m\u001b[0;34m\u001b[0m\u001b[0;34m\u001b[0m\u001b[0m\n\u001b[0;32m----> 2\u001b[0;31m \u001b[0mmyModel\u001b[0m\u001b[0;34m.\u001b[0m\u001b[0mprintAttr\u001b[0m\u001b[0;34m(\u001b[0m\u001b[0;34m[\u001b[0m\u001b[0;34m'X'\u001b[0m\u001b[0;34m,\u001b[0m \u001b[0;34m'Obj'\u001b[0m\u001b[0;34m,\u001b[0m \u001b[0;34m'SAObjLow'\u001b[0m\u001b[0;34m,\u001b[0m \u001b[0;34m'SAObjUp'\u001b[0m\u001b[0;34m]\u001b[0m\u001b[0;34m)\u001b[0m\u001b[0;34m\u001b[0m\u001b[0;34m\u001b[0m\u001b[0m\n\u001b[0m\u001b[1;32m      3\u001b[0m \u001b[0mmyModel\u001b[0m\u001b[0;34m.\u001b[0m\u001b[0mprintAttr\u001b[0m\u001b[0;34m(\u001b[0m\u001b[0;34m[\u001b[0m\u001b[0;34m'X'\u001b[0m\u001b[0;34m,\u001b[0m \u001b[0;34m'RC'\u001b[0m\u001b[0;34m,\u001b[0m \u001b[0;34m'LB'\u001b[0m\u001b[0;34m,\u001b[0m \u001b[0;34m'SALBLow'\u001b[0m\u001b[0;34m,\u001b[0m \u001b[0;34m'SALBUp'\u001b[0m\u001b[0;34m,\u001b[0m \u001b[0;34m'UB'\u001b[0m\u001b[0;34m,\u001b[0m \u001b[0;34m'SAUBLow'\u001b[0m\u001b[0;34m,\u001b[0m \u001b[0;34m'SAUBUp'\u001b[0m\u001b[0;34m]\u001b[0m\u001b[0;34m)\u001b[0m\u001b[0;34m\u001b[0m\u001b[0;34m\u001b[0m\u001b[0m\n\u001b[1;32m      4\u001b[0m \u001b[0mmyModel\u001b[0m\u001b[0;34m.\u001b[0m\u001b[0mprintAttr\u001b[0m\u001b[0;34m(\u001b[0m\u001b[0;34m[\u001b[0m\u001b[0;34m'Sense'\u001b[0m\u001b[0;34m,\u001b[0m \u001b[0;34m'Slack'\u001b[0m\u001b[0;34m,\u001b[0m \u001b[0;34m'Pi'\u001b[0m\u001b[0;34m,\u001b[0m \u001b[0;34m'RHS'\u001b[0m\u001b[0;34m,\u001b[0m \u001b[0;34m'SARHSLow'\u001b[0m\u001b[0;34m,\u001b[0m \u001b[0;34m'SARHSUp'\u001b[0m\u001b[0;34m]\u001b[0m\u001b[0;34m)\u001b[0m\u001b[0;34m\u001b[0m\u001b[0;34m\u001b[0m\u001b[0m\n",
      "\u001b[0;32msrc/gurobipy/model.pxi\u001b[0m in \u001b[0;36mgurobipy.Model.printAttr\u001b[0;34m()\u001b[0m\n",
      "\u001b[0;32msrc/gurobipy/model.pxi\u001b[0m in \u001b[0;36mgurobipy.Model.getAttr\u001b[0;34m()\u001b[0m\n",
      "\u001b[0;32msrc/gurobipy/attrutil.pxi\u001b[0m in \u001b[0;36mgurobipy.__gettypedattrlist\u001b[0;34m()\u001b[0m\n",
      "\u001b[0;31mGurobiError\u001b[0m: Unable to retrieve attribute 'SAObjLow'"
     ]
    }
   ],
   "source": [
    "print('Sensitivity Analysis (SA)\\nObjVal =', myModel.ObjVal)\n",
    "myModel.printAttr(['X', 'Obj', 'SAObjLow', 'SAObjUp'])\n",
    "myModel.printAttr(['X', 'RC', 'LB', 'SALBLow', 'SALBUp', 'UB', 'SAUBLow', 'SAUBUp'])\n",
    "myModel.printAttr(['Sense', 'Slack', 'Pi', 'RHS', 'SARHSLow', 'SARHSUp'])"
   ]
  },
  {
   "cell_type": "code",
   "execution_count": 1679,
   "id": "fd4e87f2",
   "metadata": {},
   "outputs": [],
   "source": [
    "#myModel.SAObjLow"
   ]
  },
  {
   "cell_type": "code",
   "execution_count": 1680,
   "id": "36dae5d7",
   "metadata": {},
   "outputs": [],
   "source": [
    "#Constr = myModel.getConstrs()"
   ]
  },
  {
   "cell_type": "code",
   "execution_count": 1681,
   "id": "081b1a56",
   "metadata": {},
   "outputs": [],
   "source": [
    "#Constr.getSensitivity()"
   ]
  },
  {
   "cell_type": "code",
   "execution_count": 1682,
   "id": "4e2fde0a",
   "metadata": {},
   "outputs": [],
   "source": [
    "#myModel.sensitivity()"
   ]
  },
  {
   "cell_type": "code",
   "execution_count": 1683,
   "id": "ab18f860",
   "metadata": {
    "scrolled": false
   },
   "outputs": [],
   "source": [
    "#myModel.feasRelaxS()"
   ]
  },
  {
   "cell_type": "code",
   "execution_count": 1684,
   "id": "50f4d896",
   "metadata": {},
   "outputs": [],
   "source": [
    "#myModel.write(filename = \"Express_Air_sensitivity.ilp\")"
   ]
  },
  {
   "cell_type": "code",
   "execution_count": 1685,
   "id": "2fcf3160",
   "metadata": {},
   "outputs": [],
   "source": [
    "#c = myModel.getConstrByName(\"NumberofAircrafts\")"
   ]
  },
  {
   "cell_type": "code",
   "execution_count": 1686,
   "id": "74024c7b",
   "metadata": {},
   "outputs": [],
   "source": [
    "#c.Pi"
   ]
  },
  {
   "cell_type": "code",
   "execution_count": 1687,
   "id": "d4b68cd9",
   "metadata": {},
   "outputs": [
    {
     "name": "stdout",
     "output_type": "stream",
     "text": [
      "Objective value: 17925.0\n"
     ]
    },
    {
     "ename": "AttributeError",
     "evalue": "Unable to retrieve attribute 'Pi'",
     "output_type": "error",
     "traceback": [
      "\u001b[0;31m---------------------------------------------------------------------------\u001b[0m",
      "\u001b[0;31mAttributeError\u001b[0m                            Traceback (most recent call last)",
      "\u001b[0;32m<ipython-input-1687-4595671e3e47>\u001b[0m in \u001b[0;36m<module>\u001b[0;34m\u001b[0m\n\u001b[1;32m      5\u001b[0m \u001b[0;32mfor\u001b[0m \u001b[0mc\u001b[0m \u001b[0;32min\u001b[0m \u001b[0mmyModel\u001b[0m\u001b[0;34m.\u001b[0m\u001b[0mgetConstrs\u001b[0m\u001b[0;34m(\u001b[0m\u001b[0;34m)\u001b[0m\u001b[0;34m:\u001b[0m\u001b[0;34m\u001b[0m\u001b[0;34m\u001b[0m\u001b[0m\n\u001b[1;32m      6\u001b[0m     \u001b[0;31m# Print the shadow price of the constraint\u001b[0m\u001b[0;34m\u001b[0m\u001b[0;34m\u001b[0m\u001b[0;34m\u001b[0m\u001b[0m\n\u001b[0;32m----> 7\u001b[0;31m     \u001b[0mprint\u001b[0m\u001b[0;34m(\u001b[0m\u001b[0;34m\"Constraint\"\u001b[0m\u001b[0;34m,\u001b[0m \u001b[0mc\u001b[0m\u001b[0;34m.\u001b[0m\u001b[0mConstrName\u001b[0m\u001b[0;34m,\u001b[0m \u001b[0;34m\"shadow price:\"\u001b[0m\u001b[0;34m,\u001b[0m \u001b[0mc\u001b[0m\u001b[0;34m.\u001b[0m\u001b[0mPi\u001b[0m\u001b[0;34m)\u001b[0m\u001b[0;34m\u001b[0m\u001b[0;34m\u001b[0m\u001b[0m\n\u001b[0m\u001b[1;32m      8\u001b[0m \u001b[0;34m\u001b[0m\u001b[0m\n\u001b[1;32m      9\u001b[0m \u001b[0;31m# Loop over the variables in the model\u001b[0m\u001b[0;34m\u001b[0m\u001b[0;34m\u001b[0m\u001b[0;34m\u001b[0m\u001b[0m\n",
      "\u001b[0;32msrc/gurobipy/constr.pxi\u001b[0m in \u001b[0;36mgurobipy.Constr.__getattr__\u001b[0;34m()\u001b[0m\n",
      "\u001b[0;32msrc/gurobipy/constr.pxi\u001b[0m in \u001b[0;36mgurobipy.Constr.getAttr\u001b[0;34m()\u001b[0m\n",
      "\u001b[0;32msrc/gurobipy/attrutil.pxi\u001b[0m in \u001b[0;36mgurobipy.__getattr\u001b[0;34m()\u001b[0m\n",
      "\u001b[0;31mAttributeError\u001b[0m: Unable to retrieve attribute 'Pi'"
     ]
    }
   ],
   "source": [
    "# Print the objective value\n",
    "print(\"Objective value:\", myModel.objVal)\n",
    "\n",
    "# Loop over the constraints in the model\n",
    "for c in myModel.getConstrs():\n",
    "    # Print the shadow price of the constraint\n",
    "    print(\"Constraint\", c.ConstrName, \"shadow price:\", c.Pi)\n",
    "\n",
    "# Loop over the variables in the model\n",
    "for v in myModel.getVars():\n",
    "    # Print the reduced cost of the variable\n",
    "    print(\"Variable\", v.VarName, \"reduced cost:\", v.RC)"
   ]
  },
  {
   "cell_type": "code",
   "execution_count": 1688,
   "id": "c0dffe3e",
   "metadata": {},
   "outputs": [
    {
     "data": {
      "text/plain": [
       "['BarIterCount',\n",
       " 'BoundSVio',\n",
       " 'BoundSVioIndex',\n",
       " 'BoundSVioSum',\n",
       " 'BoundVio',\n",
       " 'BoundVioIndex',\n",
       " 'BoundVioSum',\n",
       " 'ComplVio',\n",
       " 'ComplVioIndex',\n",
       " 'ComplVioSum',\n",
       " 'ConcurrentWinMethod',\n",
       " 'ConcurrentWinner',\n",
       " 'ConstrResidual',\n",
       " 'ConstrResidualIndex',\n",
       " 'ConstrResidualSum',\n",
       " 'ConstrSResidual',\n",
       " 'ConstrSResidualIndex',\n",
       " 'ConstrSResidualSum',\n",
       " 'ConstrSVio',\n",
       " 'ConstrSVioIndex',\n",
       " 'ConstrSVioSum',\n",
       " 'ConstrVio',\n",
       " 'ConstrVioIndex',\n",
       " 'ConstrVioSum',\n",
       " 'DNumNZs',\n",
       " 'DualResidual',\n",
       " 'DualResidualIndex',\n",
       " 'DualResidualSum',\n",
       " 'DualSResidual',\n",
       " 'DualSResidualIndex',\n",
       " 'DualSResidualSum',\n",
       " 'DualSVio',\n",
       " 'DualSVioIndex',\n",
       " 'DualSVioSum',\n",
       " 'DualVio',\n",
       " 'DualVioIndex',\n",
       " 'DualVioSum',\n",
       " 'FarkasProof',\n",
       " 'Fingerprint',\n",
       " 'FirstSolNode',\n",
       " 'HasDualNorm',\n",
       " 'IISMinimal',\n",
       " 'InfeasVar',\n",
       " 'IntVio',\n",
       " 'IntVioIndex',\n",
       " 'IntVioSum',\n",
       " 'IsMIP',\n",
       " 'IsMultiObj',\n",
       " 'IsQCP',\n",
       " 'IsQP',\n",
       " 'IterCount',\n",
       " 'IterCount0',\n",
       " 'JobID',\n",
       " 'Kappa',\n",
       " 'KappaExact',\n",
       " 'LicenseExpiration',\n",
       " 'MIPGap',\n",
       " 'MaxBound',\n",
       " 'MaxCoeff',\n",
       " 'MaxObjCoeff',\n",
       " 'MaxQCCoeff',\n",
       " 'MaxQCLCoeff',\n",
       " 'MaxQCRHS',\n",
       " 'MaxQObjCoeff',\n",
       " 'MaxRHS',\n",
       " 'MaxVio',\n",
       " 'MinBound',\n",
       " 'MinCoeff',\n",
       " 'MinObjCoeff',\n",
       " 'MinQCCoeff',\n",
       " 'MinQCLCoeff',\n",
       " 'MinQCRHS',\n",
       " 'MinQObjCoeff',\n",
       " 'MinRHS',\n",
       " 'ModelName',\n",
       " 'ModelSense',\n",
       " 'N2Kappa',\n",
       " 'NodeCount',\n",
       " 'NumBinVars',\n",
       " 'NumConstrs',\n",
       " 'NumGenConstrs',\n",
       " 'NumIntVars',\n",
       " 'NumNZs',\n",
       " 'NumObj',\n",
       " 'NumPWLObjVars',\n",
       " 'NumQCNZs',\n",
       " 'NumQConstrs',\n",
       " 'NumQNZs',\n",
       " 'NumSOS',\n",
       " 'NumScenarios',\n",
       " 'NumStart',\n",
       " 'NumTagged',\n",
       " 'NumVars',\n",
       " 'ObjBound',\n",
       " 'ObjBoundC',\n",
       " 'ObjCon',\n",
       " 'ObjNAbsTol',\n",
       " 'ObjNCon',\n",
       " 'ObjNName',\n",
       " 'ObjNPriority',\n",
       " 'ObjNRelTol',\n",
       " 'ObjNVal',\n",
       " 'ObjNWeight',\n",
       " 'ObjVal',\n",
       " 'OpenNodeCount',\n",
       " 'Params',\n",
       " 'PoolObjBound',\n",
       " 'PoolObjVal',\n",
       " 'RunVTime',\n",
       " 'Runtime',\n",
       " 'ScenNName',\n",
       " 'ScenNObjBound',\n",
       " 'ScenNObjVal',\n",
       " 'Server',\n",
       " 'SolCount',\n",
       " 'Status',\n",
       " 'TOpen',\n",
       " 'TuneResultCount',\n",
       " 'UnbdVar',\n",
       " 'Work',\n",
       " '_Model__addConstr',\n",
       " '_Model__cbCutOrLazy',\n",
       " '_Model__constrs',\n",
       " '_Model__delconstrs',\n",
       " '_Model__delvars',\n",
       " '_Model__feasrelax',\n",
       " '_Model__genconstrs',\n",
       " '_Model__genexpr_key',\n",
       " '_Model__getConstr',\n",
       " '_Model__getGenConstr',\n",
       " '_Model__getQConstr',\n",
       " '_Model__getSOS',\n",
       " '_Model__getVar',\n",
       " '_Model__getupdatemode',\n",
       " '_Model__indexname',\n",
       " '_Model__isAttrAvailable',\n",
       " '_Model__listify',\n",
       " '_Model__liveconstrs',\n",
       " '_Model__livevars',\n",
       " '_Model__newranges',\n",
       " '_Model__owns',\n",
       " '_Model__qconstrs',\n",
       " '_Model__setup',\n",
       " '_Model__sos',\n",
       " '_Model__updatemode',\n",
       " '_Model__vars',\n",
       " '__class__',\n",
       " '__del__',\n",
       " '__delattr__',\n",
       " '__dict__',\n",
       " '__dir__',\n",
       " '__doc__',\n",
       " '__enter__',\n",
       " '__eq__',\n",
       " '__exit__',\n",
       " '__format__',\n",
       " '__ge__',\n",
       " '__getattr__',\n",
       " '__getattribute__',\n",
       " '__gt__',\n",
       " '__hash__',\n",
       " '__init__',\n",
       " '__init_subclass__',\n",
       " '__le__',\n",
       " '__lt__',\n",
       " '__module__',\n",
       " '__ne__',\n",
       " '__new__',\n",
       " '__reduce__',\n",
       " '__reduce_ex__',\n",
       " '__repr__',\n",
       " '__setattr__',\n",
       " '__sizeof__',\n",
       " '__str__',\n",
       " '__subclasshook__',\n",
       " '__weakref__',\n",
       " '_callback',\n",
       " '_cmodel',\n",
       " '_createX',\n",
       " '_env',\n",
       " '_getConstrName',\n",
       " '_map_coldata_to_vars',\n",
       " '_removeone',\n",
       " '_setMObjectiveN',\n",
       " '_splitlongmessage',\n",
       " '_typeenum',\n",
       " '_typename',\n",
       " '_uenv',\n",
       " '_v811_addMConstrs',\n",
       " '_v811_setMObjective',\n",
       " 'addConstr',\n",
       " 'addConstrs',\n",
       " 'addGenConstrAbs',\n",
       " 'addGenConstrAnd',\n",
       " 'addGenConstrCos',\n",
       " 'addGenConstrExp',\n",
       " 'addGenConstrExpA',\n",
       " 'addGenConstrIndicator',\n",
       " 'addGenConstrLog',\n",
       " 'addGenConstrLogA',\n",
       " 'addGenConstrMax',\n",
       " 'addGenConstrMin',\n",
       " 'addGenConstrNorm',\n",
       " 'addGenConstrOr',\n",
       " 'addGenConstrPWL',\n",
       " 'addGenConstrPoly',\n",
       " 'addGenConstrPow',\n",
       " 'addGenConstrSin',\n",
       " 'addGenConstrTan',\n",
       " 'addLConstr',\n",
       " 'addMConstr',\n",
       " 'addMConstrs',\n",
       " 'addMQConstr',\n",
       " 'addMVar',\n",
       " 'addQConstr',\n",
       " 'addRange',\n",
       " 'addSOS',\n",
       " 'addVar',\n",
       " 'addVars',\n",
       " 'cbCut',\n",
       " 'cbGet',\n",
       " 'cbGetNodeRel',\n",
       " 'cbGetSolution',\n",
       " 'cbLazy',\n",
       " 'cbProceed',\n",
       " 'cbSetSolution',\n",
       " 'cbStopOneMultiObj',\n",
       " 'cbUseSolution',\n",
       " 'chgCoeff',\n",
       " 'close',\n",
       " 'computeIIS',\n",
       " 'copy',\n",
       " 'discardConcurrentEnvs',\n",
       " 'discardMultiobjEnvs',\n",
       " 'display',\n",
       " 'dispose',\n",
       " 'dualize',\n",
       " 'feasRelax',\n",
       " 'feasRelaxS',\n",
       " 'feasibility',\n",
       " 'fixTuneParam',\n",
       " 'fixed',\n",
       " 'getA',\n",
       " 'getAttr',\n",
       " 'getCoeff',\n",
       " 'getCol',\n",
       " 'getConcurrentEnv',\n",
       " 'getConstrByName',\n",
       " 'getConstrs',\n",
       " 'getGenConstrAbs',\n",
       " 'getGenConstrAnd',\n",
       " 'getGenConstrCos',\n",
       " 'getGenConstrExp',\n",
       " 'getGenConstrExpA',\n",
       " 'getGenConstrIndicator',\n",
       " 'getGenConstrLog',\n",
       " 'getGenConstrLogA',\n",
       " 'getGenConstrMax',\n",
       " 'getGenConstrMin',\n",
       " 'getGenConstrNorm',\n",
       " 'getGenConstrOr',\n",
       " 'getGenConstrPWL',\n",
       " 'getGenConstrPoly',\n",
       " 'getGenConstrPow',\n",
       " 'getGenConstrSin',\n",
       " 'getGenConstrTan',\n",
       " 'getGenConstrs',\n",
       " 'getJSONSolution',\n",
       " 'getMultiobjEnv',\n",
       " 'getObjective',\n",
       " 'getPWLObj',\n",
       " 'getParamInfo',\n",
       " 'getQ',\n",
       " 'getQCRow',\n",
       " 'getQConstrs',\n",
       " 'getRow',\n",
       " 'getSOS',\n",
       " 'getSOSs',\n",
       " 'getTuneResult',\n",
       " 'getVarByName',\n",
       " 'getVars',\n",
       " 'linearize',\n",
       " 'message',\n",
       " 'optimize',\n",
       " 'optimizeBatch',\n",
       " 'params',\n",
       " 'prefetchAttr',\n",
       " 'presolve',\n",
       " 'printAttr',\n",
       " 'printQuality',\n",
       " 'printStats',\n",
       " 'read',\n",
       " 'relax',\n",
       " 'remove',\n",
       " 'reset',\n",
       " 'resetParams',\n",
       " 'setAttr',\n",
       " 'setMObjective',\n",
       " 'setObjective',\n",
       " 'setObjectiveN',\n",
       " 'setPWLObj',\n",
       " 'setParam',\n",
       " 'singleScenarioModel',\n",
       " 'terminate',\n",
       " 'tune',\n",
       " 'update',\n",
       " 'write']"
      ]
     },
     "execution_count": 1688,
     "metadata": {},
     "output_type": "execute_result"
    }
   ],
   "source": [
    "dir(myModel)"
   ]
  },
  {
   "cell_type": "code",
   "execution_count": 1689,
   "id": "1a1e81da",
   "metadata": {},
   "outputs": [
    {
     "ename": "TypeError",
     "evalue": "getPWLObj() takes exactly 2 positional arguments (1 given)",
     "output_type": "error",
     "traceback": [
      "\u001b[0;31m---------------------------------------------------------------------------\u001b[0m",
      "\u001b[0;31mTypeError\u001b[0m                                 Traceback (most recent call last)",
      "\u001b[0;32m<ipython-input-1689-c2dd24f0439a>\u001b[0m in \u001b[0;36m<module>\u001b[0;34m\u001b[0m\n\u001b[0;32m----> 1\u001b[0;31m \u001b[0mmyModel\u001b[0m\u001b[0;34m.\u001b[0m\u001b[0mgetPWLObj\u001b[0m\u001b[0;34m(\u001b[0m\u001b[0;34m)\u001b[0m\u001b[0;34m\u001b[0m\u001b[0;34m\u001b[0m\u001b[0m\n\u001b[0m",
      "\u001b[0;32msrc/gurobipy/model.pxi\u001b[0m in \u001b[0;36mgurobipy.Model.getPWLObj\u001b[0;34m()\u001b[0m\n",
      "\u001b[0;31mTypeError\u001b[0m: getPWLObj() takes exactly 2 positional arguments (1 given)"
     ]
    }
   ],
   "source": [
    "myModel.getPWLObj()"
   ]
  },
  {
   "cell_type": "code",
   "execution_count": 1690,
   "id": "8cc2168c",
   "metadata": {},
   "outputs": [
    {
     "data": {
      "text/plain": [
       "['__add__',\n",
       " '__class__',\n",
       " '__contains__',\n",
       " '__delattr__',\n",
       " '__delitem__',\n",
       " '__dir__',\n",
       " '__doc__',\n",
       " '__eq__',\n",
       " '__format__',\n",
       " '__ge__',\n",
       " '__getattribute__',\n",
       " '__getitem__',\n",
       " '__gt__',\n",
       " '__hash__',\n",
       " '__iadd__',\n",
       " '__imul__',\n",
       " '__init__',\n",
       " '__init_subclass__',\n",
       " '__iter__',\n",
       " '__le__',\n",
       " '__len__',\n",
       " '__lt__',\n",
       " '__mul__',\n",
       " '__ne__',\n",
       " '__new__',\n",
       " '__reduce__',\n",
       " '__reduce_ex__',\n",
       " '__repr__',\n",
       " '__reversed__',\n",
       " '__rmul__',\n",
       " '__setattr__',\n",
       " '__setitem__',\n",
       " '__sizeof__',\n",
       " '__str__',\n",
       " '__subclasshook__',\n",
       " 'append',\n",
       " 'clear',\n",
       " 'copy',\n",
       " 'count',\n",
       " 'extend',\n",
       " 'index',\n",
       " 'insert',\n",
       " 'pop',\n",
       " 'remove',\n",
       " 'reverse',\n",
       " 'sort']"
      ]
     },
     "execution_count": 1690,
     "metadata": {},
     "output_type": "execute_result"
    }
   ],
   "source": [
    "dir(myModel.getConstrs())"
   ]
  },
  {
   "cell_type": "code",
   "execution_count": 1691,
   "id": "157b89ea",
   "metadata": {},
   "outputs": [],
   "source": [
    "c = myModel.getConstrs()[31]"
   ]
  },
  {
   "cell_type": "code",
   "execution_count": 1692,
   "id": "099d5aa6",
   "metadata": {},
   "outputs": [
    {
     "data": {
      "text/plain": [
       "['CBasis',\n",
       " 'CDualNorm',\n",
       " 'CTag',\n",
       " 'ConstrName',\n",
       " 'DStart',\n",
       " 'FarkasDual',\n",
       " 'IISConstr',\n",
       " 'IISConstrForce',\n",
       " 'Lazy',\n",
       " 'Pi',\n",
       " 'RHS',\n",
       " 'SARHSLow',\n",
       " 'SARHSUp',\n",
       " 'ScenNRHS',\n",
       " 'Sense',\n",
       " 'Slack',\n",
       " '__cindex__',\n",
       " '__class__',\n",
       " '__delattr__',\n",
       " '__dict__',\n",
       " '__dir__',\n",
       " '__doc__',\n",
       " '__eq__',\n",
       " '__format__',\n",
       " '__ge__',\n",
       " '__getattr__',\n",
       " '__getattribute__',\n",
       " '__gt__',\n",
       " '__hash__',\n",
       " '__init__',\n",
       " '__init_subclass__',\n",
       " '__le__',\n",
       " '__lt__',\n",
       " '__module__',\n",
       " '__ne__',\n",
       " '__new__',\n",
       " '__numrows__',\n",
       " '__reduce__',\n",
       " '__reduce_ex__',\n",
       " '__repr__',\n",
       " '__setattr__',\n",
       " '__sizeof__',\n",
       " '__str__',\n",
       " '__subclasshook__',\n",
       " '__weakref__',\n",
       " '_cmodel',\n",
       " '_rowno',\n",
       " '_typeenum',\n",
       " '_typename',\n",
       " 'getAttr',\n",
       " 'index',\n",
       " 'prefetchAttr',\n",
       " 'sameAs',\n",
       " 'setAttr']"
      ]
     },
     "execution_count": 1692,
     "metadata": {},
     "output_type": "execute_result"
    }
   ],
   "source": [
    "dir(c)"
   ]
  },
  {
   "cell_type": "code",
   "execution_count": 1693,
   "id": "b3206cf5",
   "metadata": {},
   "outputs": [
    {
     "data": {
      "text/plain": [
       "0.0"
      ]
     },
     "execution_count": 1693,
     "metadata": {},
     "output_type": "execute_result"
    }
   ],
   "source": [
    "c.Slack"
   ]
  },
  {
   "cell_type": "code",
   "execution_count": 1694,
   "id": "8eb3fbea",
   "metadata": {},
   "outputs": [
    {
     "name": "stdout",
     "output_type": "stream",
     "text": [
      "IIS runtime: 0.00 seconds (0.00 work units)\n"
     ]
    },
    {
     "ename": "GurobiError",
     "evalue": "Cannot compute IIS on a feasible model",
     "output_type": "error",
     "traceback": [
      "\u001b[0;31m---------------------------------------------------------------------------\u001b[0m",
      "\u001b[0;31mGurobiError\u001b[0m                               Traceback (most recent call last)",
      "\u001b[0;32m<ipython-input-1694-db44448c62a3>\u001b[0m in \u001b[0;36m<module>\u001b[0;34m\u001b[0m\n\u001b[0;32m----> 1\u001b[0;31m \u001b[0mmyModel\u001b[0m\u001b[0;34m.\u001b[0m\u001b[0mcomputeIIS\u001b[0m\u001b[0;34m(\u001b[0m\u001b[0;34m)\u001b[0m\u001b[0;34m\u001b[0m\u001b[0;34m\u001b[0m\u001b[0m\n\u001b[0m",
      "\u001b[0;32msrc/gurobipy/model.pxi\u001b[0m in \u001b[0;36mgurobipy.Model.computeIIS\u001b[0;34m()\u001b[0m\n",
      "\u001b[0;31mGurobiError\u001b[0m: Cannot compute IIS on a feasible model"
     ]
    }
   ],
   "source": [
    "myModel.computeIIS()"
   ]
  },
  {
   "cell_type": "code",
   "execution_count": 1699,
   "id": "744d9d2e",
   "metadata": {},
   "outputs": [
    {
     "ename": "TypeError",
     "evalue": "'int' object is not callable",
     "output_type": "error",
     "traceback": [
      "\u001b[0;31m---------------------------------------------------------------------------\u001b[0m",
      "\u001b[0;31mTypeError\u001b[0m                                 Traceback (most recent call last)",
      "\u001b[0;32m<ipython-input-1699-d4945b38b855>\u001b[0m in \u001b[0;36m<module>\u001b[0;34m\u001b[0m\n\u001b[0;32m----> 1\u001b[0;31m \u001b[0mmyModel\u001b[0m\u001b[0;34m.\u001b[0m\u001b[0misMIP\u001b[0m\u001b[0;34m(\u001b[0m\u001b[0;34m)\u001b[0m\u001b[0;34m\u001b[0m\u001b[0;34m\u001b[0m\u001b[0m\n\u001b[0m",
      "\u001b[0;31mTypeError\u001b[0m: 'int' object is not callable"
     ]
    }
   ],
   "source": [
    "myModel.isMIP()"
   ]
  },
  {
   "cell_type": "code",
   "execution_count": null,
   "id": "9a78afcb",
   "metadata": {},
   "outputs": [],
   "source": []
  }
 ],
 "metadata": {
  "kernelspec": {
   "display_name": "Python 3",
   "language": "python",
   "name": "python3"
  },
  "language_info": {
   "codemirror_mode": {
    "name": "ipython",
    "version": 3
   },
   "file_extension": ".py",
   "mimetype": "text/x-python",
   "name": "python",
   "nbconvert_exporter": "python",
   "pygments_lexer": "ipython3",
   "version": "3.8.8"
  }
 },
 "nbformat": 4,
 "nbformat_minor": 5
}
