{
 "cells": [
  {
   "cell_type": "markdown",
   "id": "1fb3a6e0",
   "metadata": {},
   "source": [
    "Code for solving the Express Air Cargo Operation Problem"
   ]
  },
  {
   "cell_type": "code",
   "execution_count": 1780,
   "id": "8edb2f2d",
   "metadata": {},
   "outputs": [],
   "source": [
    "import numpy as np\n",
    "import pandas as pd\n",
    "from gurobipy import *\n",
    "import matplotlib.pyplot as plt\n",
    "import seaborn as sns"
   ]
  },
  {
   "cell_type": "code",
   "execution_count": 1701,
   "id": "8929373c",
   "metadata": {},
   "outputs": [],
   "source": [
    "# initiate cargo comes in for each day\n",
    "Monday = np.array([[0,100,50],[25,0,25],[40,400,0]])\n",
    "Tuesday = np.array([[0,200,50],[25,0,25],[40,200,0]])\n",
    "Wednesday = np.array([[0,100,50],[25,0,25],[40,300,0]])\n",
    "Thursday = np.array([[0,400,50],[25,0,25],[40,200,0]])\n",
    "Friday = np.array([[0,300,50],[25,0,25],[40,400,0]])"
   ]
  },
  {
   "cell_type": "code",
   "execution_count": 1702,
   "id": "a5198c08",
   "metadata": {},
   "outputs": [],
   "source": [
    "cargo_lst = [Monday, Tuesday, Wednesday, Thursday, Friday]"
   ]
  },
  {
   "cell_type": "code",
   "execution_count": 1703,
   "id": "cf948b48",
   "metadata": {},
   "outputs": [
    {
     "data": {
      "text/plain": [
       "[array([[  0, 100,  50],\n",
       "        [ 25,   0,  25],\n",
       "        [ 40, 400,   0]]),\n",
       " array([[  0, 200,  50],\n",
       "        [ 25,   0,  25],\n",
       "        [ 40, 200,   0]]),\n",
       " array([[  0, 100,  50],\n",
       "        [ 25,   0,  25],\n",
       "        [ 40, 300,   0]]),\n",
       " array([[  0, 400,  50],\n",
       "        [ 25,   0,  25],\n",
       "        [ 40, 200,   0]]),\n",
       " array([[  0, 300,  50],\n",
       "        [ 25,   0,  25],\n",
       "        [ 40, 400,   0]])]"
      ]
     },
     "execution_count": 1703,
     "metadata": {},
     "output_type": "execute_result"
    }
   ],
   "source": [
    "cargo_lst"
   ]
  },
  {
   "cell_type": "code",
   "execution_count": 1704,
   "id": "3ab2aced",
   "metadata": {},
   "outputs": [],
   "source": [
    "# cost for empty repositioning flight\n",
    "repositioning_cost = np.array([[0,7,3],[7,0,6],[3,6,0]])"
   ]
  },
  {
   "cell_type": "code",
   "execution_count": 1705,
   "id": "92c6cac8",
   "metadata": {},
   "outputs": [
    {
     "data": {
      "text/plain": [
       "array([[0, 7, 3],\n",
       "       [7, 0, 6],\n",
       "       [3, 6, 0]])"
      ]
     },
     "execution_count": 1705,
     "metadata": {},
     "output_type": "execute_result"
    }
   ],
   "source": [
    "repositioning_cost"
   ]
  },
  {
   "cell_type": "code",
   "execution_count": 1706,
   "id": "98c79e25",
   "metadata": {},
   "outputs": [],
   "source": [
    "num_airports = 3\n",
    "num_days = 5"
   ]
  },
  {
   "cell_type": "code",
   "execution_count": 1707,
   "id": "84eb0b1a",
   "metadata": {},
   "outputs": [],
   "source": [
    "myVars = [[[0 for j in range (num_airports)] for i in range (num_airports)] for d in range(num_days)]"
   ]
  },
  {
   "cell_type": "code",
   "execution_count": 1708,
   "id": "28e9a153",
   "metadata": {},
   "outputs": [],
   "source": [
    "#myVars"
   ]
  },
  {
   "cell_type": "code",
   "execution_count": 1709,
   "id": "ac6d998f",
   "metadata": {},
   "outputs": [],
   "source": [
    "airport_names = ['A','B','C']"
   ]
  },
  {
   "cell_type": "code",
   "execution_count": 1710,
   "id": "7d56700c",
   "metadata": {},
   "outputs": [],
   "source": [
    "days = ['Monday','Tuesday','Wednesday','Thursday','Friday']"
   ]
  },
  {
   "cell_type": "code",
   "execution_count": 1711,
   "id": "0381b915",
   "metadata": {},
   "outputs": [],
   "source": [
    "# create a new model\n",
    "myModel = Model(\"Express_Air\")\n",
    "\n",
    "# create decision variables and store them in the array myVars\n",
    "# decision variables Xijt denote number of flights with cargos from airport i to airport j on day t\n",
    "# Xijt is integer\n",
    "myVars = [[[0 for j in range (num_airports)] for i in range (num_airports)] for t in range(num_days)]\n",
    "for i in range(num_airports):\n",
    "    for j in range(num_airports):\n",
    "        for t in range(num_days):\n",
    "            if i != j:\n",
    "                curVar = myModel.addVar(vtype = GRB.INTEGER,\n",
    "                                           name = \"x\" + airport_names[i] + airport_names[j] + str(t+1))\n",
    "                myVars[t][i][j] = curVar\n",
    "\n",
    "# integrate decision variables into the model\n",
    "myModel.update()"
   ]
  },
  {
   "cell_type": "code",
   "execution_count": 1712,
   "id": "ec931ecc",
   "metadata": {},
   "outputs": [
    {
     "data": {
      "text/plain": [
       "[[[0, <gurobi.Var xAB1>, <gurobi.Var xAC1>],\n",
       "  [<gurobi.Var xBA1>, 0, <gurobi.Var xBC1>],\n",
       "  [<gurobi.Var xCA1>, <gurobi.Var xCB1>, 0]],\n",
       " [[0, <gurobi.Var xAB2>, <gurobi.Var xAC2>],\n",
       "  [<gurobi.Var xBA2>, 0, <gurobi.Var xBC2>],\n",
       "  [<gurobi.Var xCA2>, <gurobi.Var xCB2>, 0]],\n",
       " [[0, <gurobi.Var xAB3>, <gurobi.Var xAC3>],\n",
       "  [<gurobi.Var xBA3>, 0, <gurobi.Var xBC3>],\n",
       "  [<gurobi.Var xCA3>, <gurobi.Var xCB3>, 0]],\n",
       " [[0, <gurobi.Var xAB4>, <gurobi.Var xAC4>],\n",
       "  [<gurobi.Var xBA4>, 0, <gurobi.Var xBC4>],\n",
       "  [<gurobi.Var xCA4>, <gurobi.Var xCB4>, 0]],\n",
       " [[0, <gurobi.Var xAB5>, <gurobi.Var xAC5>],\n",
       "  [<gurobi.Var xBA5>, 0, <gurobi.Var xBC5>],\n",
       "  [<gurobi.Var xCA5>, <gurobi.Var xCB5>, 0]]]"
      ]
     },
     "execution_count": 1712,
     "metadata": {},
     "output_type": "execute_result"
    }
   ],
   "source": [
    "myVars"
   ]
  },
  {
   "cell_type": "code",
   "execution_count": 1713,
   "id": "63232d53",
   "metadata": {},
   "outputs": [],
   "source": [
    "# create decision variables Eijt denote empty flights from airport i to airport j on day t\n",
    "E_Vars = [[[0 for j in range (num_airports)] for i in range (num_airports)] for t in range(num_days)]\n",
    "for i in range(num_airports):\n",
    "    for j in range(num_airports):\n",
    "        for t in range(num_days):\n",
    "            #if i != j:\n",
    "                curVar = myModel.addVar(vtype = GRB.INTEGER,\n",
    "                                           name = \"E\" + airport_names[i] + airport_names[j] + str(t+1))\n",
    "                E_Vars[t][i][j] = curVar\n",
    "\n",
    "# integrate decision variables into the model\n",
    "myModel.update()"
   ]
  },
  {
   "cell_type": "code",
   "execution_count": 1714,
   "id": "60eebb9c",
   "metadata": {},
   "outputs": [
    {
     "data": {
      "text/plain": [
       "[[[<gurobi.Var EAA1>, <gurobi.Var EAB1>, <gurobi.Var EAC1>],\n",
       "  [<gurobi.Var EBA1>, <gurobi.Var EBB1>, <gurobi.Var EBC1>],\n",
       "  [<gurobi.Var ECA1>, <gurobi.Var ECB1>, <gurobi.Var ECC1>]],\n",
       " [[<gurobi.Var EAA2>, <gurobi.Var EAB2>, <gurobi.Var EAC2>],\n",
       "  [<gurobi.Var EBA2>, <gurobi.Var EBB2>, <gurobi.Var EBC2>],\n",
       "  [<gurobi.Var ECA2>, <gurobi.Var ECB2>, <gurobi.Var ECC2>]],\n",
       " [[<gurobi.Var EAA3>, <gurobi.Var EAB3>, <gurobi.Var EAC3>],\n",
       "  [<gurobi.Var EBA3>, <gurobi.Var EBB3>, <gurobi.Var EBC3>],\n",
       "  [<gurobi.Var ECA3>, <gurobi.Var ECB3>, <gurobi.Var ECC3>]],\n",
       " [[<gurobi.Var EAA4>, <gurobi.Var EAB4>, <gurobi.Var EAC4>],\n",
       "  [<gurobi.Var EBA4>, <gurobi.Var EBB4>, <gurobi.Var EBC4>],\n",
       "  [<gurobi.Var ECA4>, <gurobi.Var ECB4>, <gurobi.Var ECC4>]],\n",
       " [[<gurobi.Var EAA5>, <gurobi.Var EAB5>, <gurobi.Var EAC5>],\n",
       "  [<gurobi.Var EBA5>, <gurobi.Var EBB5>, <gurobi.Var EBC5>],\n",
       "  [<gurobi.Var ECA5>, <gurobi.Var ECB5>, <gurobi.Var ECC5>]]]"
      ]
     },
     "execution_count": 1714,
     "metadata": {},
     "output_type": "execute_result"
    }
   ],
   "source": [
    "E_Vars"
   ]
  },
  {
   "cell_type": "code",
   "execution_count": 1715,
   "id": "74b5f3b6",
   "metadata": {},
   "outputs": [],
   "source": [
    "# create decisons variables Lijt denote unshipped cargo from airport i to airport j on day t\n",
    "# create decision variables Eijt denote empty flights from airport i to airport j on day t\n",
    "L_Vars = [[[0 for j in range (num_airports)] for i in range (num_airports)] for t in range(num_days)]\n",
    "for i in range(num_airports):\n",
    "    for j in range(num_airports):\n",
    "        for t in range(num_days):\n",
    "            if i != j:\n",
    "                curVar = myModel.addVar(vtype = GRB.INTEGER,\n",
    "                                           name = \"L\" + airport_names[i] + airport_names[j] + str(t+1))\n",
    "                L_Vars[t][i][j] = curVar\n",
    "\n",
    "# integrate decision variables into the model\n",
    "myModel.update()"
   ]
  },
  {
   "cell_type": "code",
   "execution_count": 1716,
   "id": "8b667ddc",
   "metadata": {},
   "outputs": [
    {
     "data": {
      "text/plain": [
       "[[[0, <gurobi.Var LAB1>, <gurobi.Var LAC1>],\n",
       "  [<gurobi.Var LBA1>, 0, <gurobi.Var LBC1>],\n",
       "  [<gurobi.Var LCA1>, <gurobi.Var LCB1>, 0]],\n",
       " [[0, <gurobi.Var LAB2>, <gurobi.Var LAC2>],\n",
       "  [<gurobi.Var LBA2>, 0, <gurobi.Var LBC2>],\n",
       "  [<gurobi.Var LCA2>, <gurobi.Var LCB2>, 0]],\n",
       " [[0, <gurobi.Var LAB3>, <gurobi.Var LAC3>],\n",
       "  [<gurobi.Var LBA3>, 0, <gurobi.Var LBC3>],\n",
       "  [<gurobi.Var LCA3>, <gurobi.Var LCB3>, 0]],\n",
       " [[0, <gurobi.Var LAB4>, <gurobi.Var LAC4>],\n",
       "  [<gurobi.Var LBA4>, 0, <gurobi.Var LBC4>],\n",
       "  [<gurobi.Var LCA4>, <gurobi.Var LCB4>, 0]],\n",
       " [[0, <gurobi.Var LAB5>, <gurobi.Var LAC5>],\n",
       "  [<gurobi.Var LBA5>, 0, <gurobi.Var LBC5>],\n",
       "  [<gurobi.Var LCA5>, <gurobi.Var LCB5>, 0]]]"
      ]
     },
     "execution_count": 1716,
     "metadata": {},
     "output_type": "execute_result"
    }
   ],
   "source": [
    "L_Vars"
   ]
  },
  {
   "cell_type": "code",
   "execution_count": 1717,
   "id": "00942f44",
   "metadata": {},
   "outputs": [],
   "source": [
    "# create decison variables Si denote starting number of aircrafts at airport i on day 1\n",
    "S_Vars = [0 for i in range (num_airports)]\n",
    "for i in range(num_airports):\n",
    "    curVar = myModel.addVar(vtype = GRB.INTEGER,\n",
    "                               name = \"S\" + airport_names[i])\n",
    "    S_Vars[i] = curVar\n",
    "\n",
    "# integrate decision variables into the model\n",
    "myModel.update()"
   ]
  },
  {
   "cell_type": "code",
   "execution_count": 1718,
   "id": "0115ec01",
   "metadata": {},
   "outputs": [
    {
     "data": {
      "text/plain": [
       "[<gurobi.Var SA>, <gurobi.Var SB>, <gurobi.Var SC>]"
      ]
     },
     "execution_count": 1718,
     "metadata": {},
     "output_type": "execute_result"
    }
   ],
   "source": [
    "S_Vars"
   ]
  },
  {
   "cell_type": "code",
   "execution_count": 1719,
   "id": "28248936",
   "metadata": {},
   "outputs": [],
   "source": [
    "# create a linear expression for the objective\n",
    "objExpr = LinExpr()\n",
    "\n",
    "# add all repositioning cost\n",
    "for i in range(num_airports):\n",
    "    for j in range(num_airports):\n",
    "        for t in range(num_days):\n",
    "            #if i != j:\n",
    "                curVar = E_Vars[t][i][j]\n",
    "                objExpr += repositioning_cost[i][j] * curVar\n",
    "                \n",
    "# add all landing cargo cost:\n",
    "for i in range(num_airports):\n",
    "    for j in range(num_airports):\n",
    "        for t in range(num_days):\n",
    "            if i != j:\n",
    "                curVar = L_Vars[t][i][j]\n",
    "                objExpr += 10 * curVar\n",
    "\n",
    "myModel.setObjective(objExpr, GRB.MINIMIZE)"
   ]
  },
  {
   "cell_type": "code",
   "execution_count": 1720,
   "id": "d17bda3b",
   "metadata": {},
   "outputs": [
    {
     "data": {
      "text/plain": [
       "<gurobi.LinExpr: 0.0 EAA1 + 0.0 EAA2 + 0.0 EAA3 + 0.0 EAA4 + 0.0 EAA5 + 7.0 EAB1 + 7.0 EAB2 + 7.0 EAB3 + 7.0 EAB4 + 7.0 EAB5 + 3.0 EAC1 + 3.0 EAC2 + 3.0 EAC3 + 3.0 EAC4 + 3.0 EAC5 + 7.0 EBA1 + 7.0 EBA2 + 7.0 EBA3 + 7.0 EBA4 + 7.0 EBA5 + 0.0 EBB1 + 0.0 EBB2 + 0.0 EBB3 + 0.0 EBB4 + 0.0 EBB5 + 6.0 EBC1 + 6.0 EBC2 + 6.0 EBC3 + 6.0 EBC4 + 6.0 EBC5 + 3.0 ECA1 + 3.0 ECA2 + 3.0 ECA3 + 3.0 ECA4 + 3.0 ECA5 + 6.0 ECB1 + 6.0 ECB2 + 6.0 ECB3 + 6.0 ECB4 + 6.0 ECB5 + 0.0 ECC1 + 0.0 ECC2 + 0.0 ECC3 + 0.0 ECC4 + 0.0 ECC5 + 10.0 LAB1 + 10.0 LAB2 + 10.0 LAB3 + 10.0 LAB4 + 10.0 LAB5 + 10.0 LAC1 + 10.0 LAC2 + 10.0 LAC3 + 10.0 LAC4 + 10.0 LAC5 + 10.0 LBA1 + 10.0 LBA2 + 10.0 LBA3 + 10.0 LBA4 + 10.0 LBA5 + 10.0 LBC1 + 10.0 LBC2 + 10.0 LBC3 + 10.0 LBC4 + 10.0 LBC5 + 10.0 LCA1 + 10.0 LCA2 + 10.0 LCA3 + 10.0 LCA4 + 10.0 LCA5 + 10.0 LCB1 + 10.0 LCB2 + 10.0 LCB3 + 10.0 LCB4 + 10.0 LCB5 + 0.0 xAB1 + 0.0 xAB2 + 0.0 xAB3 + 0.0 xAB4 + 0.0 xAB5 + 0.0 xAC1 + 0.0 xAC2 + 0.0 xAC3 + 0.0 xAC4 + 0.0 xAC5 + 0.0 xBA1 + 0.0 xBA2 + 0.0 xBA3 + 0.0 xBA4 + 0.0 xBA5 + 0.0 xBC1 + 0.0 xBC2 + 0.0 xBC3 + 0.0 xBC4 + 0.0 xBC5 + 0.0 xCA1 + 0.0 xCA2 + 0.0 xCA3 + 0.0 xCA4 + 0.0 xCA5 + 0.0 xCB1 + 0.0 xCB2 + 0.0 xCB3 + 0.0 xCB4 + 0.0 xCB5 + 0.0 SA + 0.0 SB + 0.0 SC>"
      ]
     },
     "execution_count": 1720,
     "metadata": {},
     "output_type": "execute_result"
    }
   ],
   "source": [
    "objExpr"
   ]
  },
  {
   "cell_type": "code",
   "execution_count": 1721,
   "id": "aa3a9ca5",
   "metadata": {},
   "outputs": [],
   "source": [
    "# create constraint so that total number of outflow for airport i at time 1 is equal to starting number Si \n",
    "for i in range(num_airports):\n",
    "    constExpr = LinExpr()\n",
    "    for j in range(num_airports):\n",
    "        # out of node\n",
    "        curVar = myVars[0][i][j]\n",
    "        constExpr += 1*curVar\n",
    "        #if i != j:\n",
    "        curVar1 = E_Vars[0][i][j]\n",
    "        constExpr += 1*curVar1\n",
    "        \n",
    "    myModel.addConstr(lhs = constExpr, sense = GRB.EQUAL, rhs = S_Vars[i], name = \"Monday\"+ 'airport'+ airport_names[i])\n",
    "    \n",
    "myModel.update()"
   ]
  },
  {
   "cell_type": "code",
   "execution_count": 1722,
   "id": "c978764b",
   "metadata": {},
   "outputs": [],
   "source": [
    "# create constraint so that total number of outflow for airport i at time t is equal to inflow for airport i at time t \n",
    "for i in range(num_airports):\n",
    "    for t in range(1,num_days):\n",
    "        constExpr = LinExpr()\n",
    "        for j in range(num_airports):\n",
    "            # out of node\n",
    "            curVar = myVars[t][i][j]\n",
    "            constExpr += 1*curVar\n",
    "            #if i != j:\n",
    "            curVar1 = E_Vars[t][i][j]\n",
    "            constExpr += 1*curVar1\n",
    "            curVar2 = myVars[t-1][j][i]\n",
    "            constExpr -= curVar2\n",
    "            #if i != j:\n",
    "            curVar3 = E_Vars[t-1][j][i]\n",
    "            constExpr -= curVar3\n",
    "\n",
    "        myModel.addConstr(lhs = constExpr, sense = GRB.EQUAL, rhs = 0, name = days[t] + 'airport' + airport_names[i])\n",
    "    \n",
    "myModel.update()"
   ]
  },
  {
   "cell_type": "code",
   "execution_count": 1723,
   "id": "52fcb68e",
   "metadata": {},
   "outputs": [],
   "source": [
    "# create constraint so that total number of inflow for airport i at time 5 is equal to starting number Si \n",
    "for i in range(num_airports):\n",
    "    constExpr = LinExpr()\n",
    "    for j in range(num_airports):\n",
    "        # out of node\n",
    "        curVar = myVars[4][j][i]\n",
    "        constExpr += 1*curVar\n",
    "        #if i != j:\n",
    "        curVar1 = E_Vars[4][j][i]\n",
    "        constExpr += 1*curVar1\n",
    "        \n",
    "    myModel.addConstr(lhs = constExpr, sense = GRB.EQUAL, rhs = S_Vars[i], name = \"EndofWeek\"+ 'airport'+ airport_names[i])\n",
    "    \n",
    "myModel.update()"
   ]
  },
  {
   "cell_type": "code",
   "execution_count": 1724,
   "id": "3535c803",
   "metadata": {},
   "outputs": [],
   "source": [
    "# create constraint so that total number of flights is 1200\n",
    "constExpr = LinExpr()\n",
    "for i in range(num_airports):\n",
    "    curVar = S_Vars[i]\n",
    "    constExpr += 1*curVar\n",
    "        \n",
    "myModel.addConstr(lhs = constExpr, sense = GRB.EQUAL, rhs = 1200, name = \"NumberofAircrafts\")\n",
    "    \n",
    "myModel.update()"
   ]
  },
  {
   "cell_type": "code",
   "execution_count": 1725,
   "id": "c09dce62",
   "metadata": {},
   "outputs": [],
   "source": [
    "# Create constraint so that number of landing cargos equals amount need to be shipped minus amount really shipped\n",
    "# for Monday\n",
    "for i in range(num_airports):\n",
    "    for j in range(num_airports):\n",
    "        if i != j:\n",
    "            constExpr1 = LinExpr()\n",
    "            constExpr2 = LinExpr()\n",
    "            curVar = L_Vars[0][i][j]\n",
    "            curVar0 = L_Vars[4][i][j]\n",
    "            curVar1 = cargo_lst[0][i][j]\n",
    "            curVar2 = myVars[0][i][j]\n",
    "            constExpr1 += 1*curVar - 1*curVar0 + 1*curVar2\n",
    "            constExpr2 += 1*curVar1\n",
    "            myModel.addConstr(lhs = constExpr1, sense = GRB.EQUAL, rhs = constExpr2, name = 'StartLandingCargos'+'Monday'+airport_names[i]+airport_names[j])"
   ]
  },
  {
   "cell_type": "code",
   "execution_count": 1726,
   "id": "d4114589",
   "metadata": {},
   "outputs": [
    {
     "data": {
      "text/plain": [
       "\"\\nfor i in range(num_airports):\\n    for j in range(num_airports):\\n        if i != j:\\n            constExpr = LinExpr()\\n            curVar = L_Vars[4][i][j]\\n            constExpr += 1*curVar\\n            myModel.addConstr(lhs = constExpr, sense = GRB.EQUAL, rhs = 0, name = 'FinalLandingCargos'+days[t]+airport_names[i]+airport_names[j])\\n\""
      ]
     },
     "execution_count": 1726,
     "metadata": {},
     "output_type": "execute_result"
    }
   ],
   "source": [
    "# for Tues,Weds,Thurs\n",
    "for i in range(num_airports):\n",
    "    for j in range(num_airports):\n",
    "        for t in range(1, num_days):\n",
    "            if i != j:\n",
    "                constExpr1 = LinExpr()\n",
    "                constExpr2 = LinExpr()\n",
    "                curVar = L_Vars[t][i][j]\n",
    "                curVar0 = L_Vars[t-1][i][j]\n",
    "                curVar1 = cargo_lst[t][i][j]\n",
    "                curVar2 = myVars[t][i][j]\n",
    "                constExpr1 += 1*curVar - 1*curVar0 + 1*curVar2\n",
    "                constExpr2 += 1*curVar1\n",
    "                myModel.addConstr(lhs = constExpr1, sense = GRB.EQUAL, rhs = constExpr2, name = 'LandingCargos'+days[t]+airport_names[i]+airport_names[j])\n",
    "# for Friday\n",
    "'''\n",
    "for i in range(num_airports):\n",
    "    for j in range(num_airports):\n",
    "        if i != j:\n",
    "            constExpr = LinExpr()\n",
    "            curVar = L_Vars[4][i][j]\n",
    "            constExpr += 1*curVar\n",
    "            myModel.addConstr(lhs = constExpr, sense = GRB.EQUAL, rhs = 0, name = 'FinalLandingCargos'+days[t]+airport_names[i]+airport_names[j])\n",
    "'''\n",
    " "
   ]
  },
  {
   "cell_type": "code",
   "execution_count": 1727,
   "id": "fcdc4b90",
   "metadata": {},
   "outputs": [
    {
     "data": {
      "text/plain": [
       "\"\\n# sum delivered equals sum need to be delivered \\nfor i in range(num_airports):\\n    for j in range(num_airports):\\n        if i != j:\\n            constExpr = LinExpr()\\n            for t in range(num_days):\\n                # out of node\\n                curVar = myVars[t][i][j]\\n                constExpr += 1*curVar\\n                curVar1 = cargo_lst[t][i][j]\\n                constExpr -= 1*curVar1\\n\\n            myModel.addConstr(lhs = constExpr, sense = GRB.EQUAL, rhs = 0, name = 'cargo' + airport_names[i]+airport_names[j])\\n\\nmyModel.update()\\n\""
      ]
     },
     "execution_count": 1727,
     "metadata": {},
     "output_type": "execute_result"
    }
   ],
   "source": [
    "'''\n",
    "# sum delivered equals sum need to be delivered \n",
    "for i in range(num_airports):\n",
    "    for j in range(num_airports):\n",
    "        if i != j:\n",
    "            constExpr = LinExpr()\n",
    "            for t in range(num_days):\n",
    "                # out of node\n",
    "                curVar = myVars[t][i][j]\n",
    "                constExpr += 1*curVar\n",
    "                curVar1 = cargo_lst[t][i][j]\n",
    "                constExpr -= 1*curVar1\n",
    "\n",
    "            myModel.addConstr(lhs = constExpr, sense = GRB.EQUAL, rhs = 0, name = 'cargo' + airport_names[i]+airport_names[j])\n",
    "\n",
    "myModel.update()\n",
    "'''"
   ]
  },
  {
   "cell_type": "code",
   "execution_count": 1728,
   "id": "509cb52f",
   "metadata": {
    "scrolled": false
   },
   "outputs": [
    {
     "data": {
      "text/plain": [
       "\"\\n# each time delivered must be less than or equal to current amount of cargos\\nfor i in range(num_airports):\\n    for j in range(num_airports):\\n        if i != j:\\n            for t in range(1,num_days):\\n                constExpr1 = LinExpr()\\n                constExpr2 = LinExpr()\\n                # out of node\\n                curVar = myVars[t][i][j]\\n                constExpr1 += 1*curVar\\n                curVar1 = cargo_lst[t][i][j]\\n                constExpr2 += 1*curVar1\\n                curVar2 = L_Vars[t-1][i][j]\\n                constExpr2 += 1*curVar2\\n\\n                myModel.addConstr(lhs = constExpr1, sense = GRB.LESS_EQUAL, rhs = constExpr2, name = 'Capacity' + airport_names[i]+airport_names[j]+days[t])\\n\\nmyModel.update()\\n\""
      ]
     },
     "execution_count": 1728,
     "metadata": {},
     "output_type": "execute_result"
    }
   ],
   "source": [
    "'''\n",
    "# each time delivered must be less than or equal to current amount of cargos\n",
    "for i in range(num_airports):\n",
    "    for j in range(num_airports):\n",
    "        if i != j:\n",
    "            for t in range(1,num_days):\n",
    "                constExpr1 = LinExpr()\n",
    "                constExpr2 = LinExpr()\n",
    "                # out of node\n",
    "                curVar = myVars[t][i][j]\n",
    "                constExpr1 += 1*curVar\n",
    "                curVar1 = cargo_lst[t][i][j]\n",
    "                constExpr2 += 1*curVar1\n",
    "                curVar2 = L_Vars[t-1][i][j]\n",
    "                constExpr2 += 1*curVar2\n",
    "\n",
    "                myModel.addConstr(lhs = constExpr1, sense = GRB.LESS_EQUAL, rhs = constExpr2, name = 'Capacity' + airport_names[i]+airport_names[j]+days[t])\n",
    "\n",
    "myModel.update()\n",
    "'''"
   ]
  },
  {
   "cell_type": "code",
   "execution_count": 1729,
   "id": "fdf2e153",
   "metadata": {
    "scrolled": true
   },
   "outputs": [
    {
     "data": {
      "text/plain": [
       "200"
      ]
     },
     "execution_count": 1729,
     "metadata": {},
     "output_type": "execute_result"
    }
   ],
   "source": [
    "cargo_lst[1][2][1]"
   ]
  },
  {
   "cell_type": "code",
   "execution_count": 1730,
   "id": "21703d37",
   "metadata": {},
   "outputs": [],
   "source": [
    "# write the model in a file to make sure it is constructed correctly\n",
    "myModel.write(filename = \"Express_Air.lp\")"
   ]
  },
  {
   "cell_type": "code",
   "execution_count": 1731,
   "id": "6551b2eb",
   "metadata": {},
   "outputs": [
    {
     "name": "stdout",
     "output_type": "stream",
     "text": [
      "Gurobi Optimizer version 9.5.2 build v9.5.2rc0 (mac64[x86])\n",
      "Thread count: 8 physical cores, 16 logical processors, using up to 16 threads\n",
      "Optimize a model with 49 rows, 108 columns and 249 nonzeros\n",
      "Model fingerprint: 0xcedfc35f\n",
      "Variable types: 0 continuous, 108 integer (0 binary)\n",
      "Coefficient statistics:\n",
      "  Matrix range     [1e+00, 1e+00]\n",
      "  Objective range  [3e+00, 1e+01]\n",
      "  Bounds range     [0e+00, 0e+00]\n",
      "  RHS range        [2e+01, 1e+03]\n",
      "Presolve removed 1 rows and 1 columns\n",
      "Presolve time: 0.00s\n",
      "Presolved: 48 rows, 107 columns, 248 nonzeros\n",
      "Variable types: 0 continuous, 107 integer (0 binary)\n",
      "\n",
      "Root relaxation: objective 1.792500e+04, 25 iterations, 0.00 seconds (0.00 work units)\n",
      "\n",
      "    Nodes    |    Current Node    |     Objective Bounds      |     Work\n",
      " Expl Unexpl |  Obj  Depth IntInf | Incumbent    BestBd   Gap | It/Node Time\n",
      "\n",
      "*    0     0               0    17925.000000 17925.0000  0.00%     -    0s\n",
      "\n",
      "Explored 1 nodes (25 simplex iterations) in 0.02 seconds (0.00 work units)\n",
      "Thread count was 16 (of 16 available processors)\n",
      "\n",
      "Solution count 1: 17925 \n",
      "\n",
      "Optimal solution found (tolerance 1.00e-04)\n",
      "Best objective 1.792500000000e+04, best bound 1.792500000000e+04, gap 0.0000%\n"
     ]
    }
   ],
   "source": [
    "# optimize the model\n",
    "myModel.optimize()"
   ]
  },
  {
   "cell_type": "code",
   "execution_count": 1732,
   "id": "8cd67ec9",
   "metadata": {},
   "outputs": [
    {
     "name": "stdout",
     "output_type": "stream",
     "text": [
      "\n",
      "Optimal Objective: 17925.0\n",
      "\n",
      "Optimal Solution:\n",
      "xAB1 200.0\n",
      "xAB2 290.0\n",
      "xAB3 100.0\n",
      "xAB4 400.0\n",
      "xAB5 110.0\n",
      "xAC1 50.0\n",
      "xAC2 50.0\n",
      "xAC3 50.0\n",
      "xAC4 50.0\n",
      "xAC5 50.0\n",
      "xBA1 25.0\n",
      "xBA2 25.0\n",
      "xBA3 25.0\n",
      "xBA4 25.0\n",
      "xBA5 25.0\n",
      "xBC1 25.0\n",
      "xBC2 25.0\n",
      "xBC3 25.0\n",
      "xBC4 25.0\n",
      "xBC5 25.0\n",
      "xCA1 40.0\n",
      "xCA2 40.0\n",
      "xCA3 40.0\n",
      "xCA4 40.0\n",
      "xCA5 40.0\n",
      "xCB1 400.0\n",
      "xCB2 200.0\n",
      "xCB3 300.0\n",
      "xCB4 200.0\n",
      "xCB5 400.0\n",
      "EAA1 -0.0\n",
      "EAA2 -0.0\n",
      "EAA3 220.0\n",
      "EAA4 -0.0\n",
      "EAA5 -0.0\n",
      "EAB1 -0.0\n",
      "EAB2 -0.0\n",
      "EAB3 -0.0\n",
      "EAB4 -0.0\n",
      "EAB5 -0.0\n",
      "EAC1 -0.0\n",
      "EAC2 -0.0\n",
      "EAC3 -0.0\n",
      "EAC4 -0.0\n",
      "EAC5 -0.0\n",
      "EBA1 275.0\n",
      "EBA2 305.0\n",
      "EBA3 165.0\n",
      "EBA4 95.0\n",
      "EBA5 185.0\n",
      "EBB1 -0.0\n",
      "EBB2 -0.0\n",
      "EBB3 -0.0\n",
      "EBB4 -0.0\n",
      "EBB5 -0.0\n",
      "EBC1 185.0\n",
      "EBC2 245.0\n",
      "EBC3 275.0\n",
      "EBC4 255.0\n",
      "EBC5 365.0\n",
      "ECA1 -0.0\n",
      "ECA2 -0.0\n",
      "ECA3 -0.0\n",
      "ECA4 -0.0\n",
      "ECA5 -0.0\n",
      "ECB1 -0.0\n",
      "ECB2 -0.0\n",
      "ECB3 -0.0\n",
      "ECB4 -0.0\n",
      "ECB5 -0.0\n",
      "ECC1 -0.0\n",
      "ECC2 20.0\n",
      "ECC3 -0.0\n",
      "ECC4 110.0\n",
      "ECC5 -0.0\n",
      "LAB1 90.0\n",
      "LAB2 -0.0\n",
      "LAB3 -0.0\n",
      "LAB4 -0.0\n",
      "LAB5 190.0\n",
      "LAC1 -0.0\n",
      "LAC2 -0.0\n",
      "LAC3 -0.0\n",
      "LAC4 -0.0\n",
      "LAC5 -0.0\n",
      "LBA1 -0.0\n",
      "LBA2 -0.0\n",
      "LBA3 -0.0\n",
      "LBA4 -0.0\n",
      "LBA5 -0.0\n",
      "LBC1 -0.0\n",
      "LBC2 -0.0\n",
      "LBC3 -0.0\n",
      "LBC4 -0.0\n",
      "LBC5 -0.0\n",
      "LCA1 -0.0\n",
      "LCA2 -0.0\n",
      "LCA3 -0.0\n",
      "LCA4 -0.0\n",
      "LCA5 -0.0\n",
      "LCB1 -0.0\n",
      "LCB2 -0.0\n",
      "LCB3 -0.0\n",
      "LCB4 -0.0\n",
      "LCB5 -0.0\n",
      "SA 250.0\n",
      "SB 510.0\n",
      "SC 440.0\n"
     ]
    }
   ],
   "source": [
    "# print optimal objective and optimal solution\n",
    "print(\"\\nOptimal Objective: \" + str(myModel.ObjVal))\n",
    "print(\"\\nOptimal Solution:\")\n",
    "allVars = myModel.getVars()\n",
    "for curVar in allVars:\n",
    "    print(curVar.varName + \" \" + str(curVar.x))"
   ]
  },
  {
   "cell_type": "code",
   "execution_count": 1733,
   "id": "37f5d932",
   "metadata": {},
   "outputs": [],
   "source": [
    "decision_variables = [y.x for y in allVars]"
   ]
  },
  {
   "cell_type": "code",
   "execution_count": 1734,
   "id": "2b4920a8",
   "metadata": {},
   "outputs": [],
   "source": [
    "Xijt = np.array(decision_variables[:30]).reshape(6,5)"
   ]
  },
  {
   "cell_type": "code",
   "execution_count": 1735,
   "id": "adedb9e8",
   "metadata": {},
   "outputs": [
    {
     "data": {
      "text/plain": [
       "array([[200., 290., 100., 400., 110.],\n",
       "       [ 50.,  50.,  50.,  50.,  50.],\n",
       "       [ 25.,  25.,  25.,  25.,  25.],\n",
       "       [ 25.,  25.,  25.,  25.,  25.],\n",
       "       [ 40.,  40.,  40.,  40.,  40.],\n",
       "       [400., 200., 300., 200., 400.]])"
      ]
     },
     "execution_count": 1735,
     "metadata": {},
     "output_type": "execute_result"
    }
   ],
   "source": [
    "Xijt"
   ]
  },
  {
   "cell_type": "code",
   "execution_count": 1736,
   "id": "bcf736a2",
   "metadata": {},
   "outputs": [],
   "source": [
    "Eijt = np.array(decision_variables[30:75]).reshape(9,5)"
   ]
  },
  {
   "cell_type": "code",
   "execution_count": 1737,
   "id": "92019047",
   "metadata": {},
   "outputs": [
    {
     "data": {
      "text/plain": [
       "array([[ -0.,  -0., 220.,  -0.,  -0.],\n",
       "       [ -0.,  -0.,  -0.,  -0.,  -0.],\n",
       "       [ -0.,  -0.,  -0.,  -0.,  -0.],\n",
       "       [275., 305., 165.,  95., 185.],\n",
       "       [ -0.,  -0.,  -0.,  -0.,  -0.],\n",
       "       [185., 245., 275., 255., 365.],\n",
       "       [ -0.,  -0.,  -0.,  -0.,  -0.],\n",
       "       [ -0.,  -0.,  -0.,  -0.,  -0.],\n",
       "       [ -0.,  20.,  -0., 110.,  -0.]])"
      ]
     },
     "execution_count": 1737,
     "metadata": {},
     "output_type": "execute_result"
    }
   ],
   "source": [
    "Eijt"
   ]
  },
  {
   "cell_type": "code",
   "execution_count": 1738,
   "id": "e50bae25",
   "metadata": {},
   "outputs": [],
   "source": [
    "Lijt = np.array(decision_variables[75:105]).reshape(6,5)"
   ]
  },
  {
   "cell_type": "code",
   "execution_count": 1739,
   "id": "fe955fcd",
   "metadata": {},
   "outputs": [
    {
     "data": {
      "text/plain": [
       "array([[ 90.,  -0.,  -0.,  -0., 190.],\n",
       "       [ -0.,  -0.,  -0.,  -0.,  -0.],\n",
       "       [ -0.,  -0.,  -0.,  -0.,  -0.],\n",
       "       [ -0.,  -0.,  -0.,  -0.,  -0.],\n",
       "       [ -0.,  -0.,  -0.,  -0.,  -0.],\n",
       "       [ -0.,  -0.,  -0.,  -0.,  -0.]])"
      ]
     },
     "execution_count": 1739,
     "metadata": {},
     "output_type": "execute_result"
    }
   ],
   "source": [
    "Lijt"
   ]
  },
  {
   "cell_type": "code",
   "execution_count": 1740,
   "id": "71881fb1",
   "metadata": {},
   "outputs": [],
   "source": [
    "S_ = np.array(decision_variables[105:]).reshape(3,1)"
   ]
  },
  {
   "cell_type": "code",
   "execution_count": 1741,
   "id": "3d6a69ca",
   "metadata": {
    "scrolled": false
   },
   "outputs": [
    {
     "data": {
      "text/plain": [
       "array([[250.],\n",
       "       [510.],\n",
       "       [440.]])"
      ]
     },
     "execution_count": 1741,
     "metadata": {},
     "output_type": "execute_result"
    }
   ],
   "source": [
    "S_"
   ]
  },
  {
   "cell_type": "code",
   "execution_count": 1746,
   "id": "e9659e29",
   "metadata": {
    "scrolled": true
   },
   "outputs": [
    {
     "data": {
      "text/plain": [
       "17925.0"
      ]
     },
     "execution_count": 1746,
     "metadata": {},
     "output_type": "execute_result"
    }
   ],
   "source": [
    "myModel.ObjVal"
   ]
  },
  {
   "cell_type": "code",
   "execution_count": 1774,
   "id": "b407e34b",
   "metadata": {},
   "outputs": [],
   "source": [
    "def get_optimal_value(fleet_size):\n",
    "    # create a new model\n",
    "    myModel = Model(\"Express_Air\")\n",
    "\n",
    "    # create decision variables and store them in the array myVars\n",
    "    # decision variables Xijt denote number of flights with cargos from airport i to airport j on day t\n",
    "    # Xijt is integer\n",
    "    myVars = [[[0 for j in range (num_airports)] for i in range (num_airports)] for t in range(num_days)]\n",
    "    for i in range(num_airports):\n",
    "        for j in range(num_airports):\n",
    "            for t in range(num_days):\n",
    "                if i != j:\n",
    "                    curVar = myModel.addVar(vtype = GRB.INTEGER,\n",
    "                                               name = \"x\" + airport_names[i] + airport_names[j] + str(t+1))\n",
    "                    myVars[t][i][j] = curVar\n",
    "\n",
    "    # integrate decision variables into the model\n",
    "    myModel.update()\n",
    "    \n",
    "    # create decision variables Eijt denote empty flights from airport i to airport j on day t\n",
    "    E_Vars = [[[0 for j in range (num_airports)] for i in range (num_airports)] for t in range(num_days)]\n",
    "    for i in range(num_airports):\n",
    "        for j in range(num_airports):\n",
    "            for t in range(num_days):\n",
    "                #if i != j:\n",
    "                    curVar = myModel.addVar(vtype = GRB.INTEGER,\n",
    "                                               name = \"E\" + airport_names[i] + airport_names[j] + str(t+1))\n",
    "                    E_Vars[t][i][j] = curVar\n",
    "\n",
    "    # integrate decision variables into the model\n",
    "    myModel.update()\n",
    "    \n",
    "    # create decisons variables Lijt denote unshipped cargo from airport i to airport j on day t\n",
    "    # create decision variables Eijt denote empty flights from airport i to airport j on day t\n",
    "    L_Vars = [[[0 for j in range (num_airports)] for i in range (num_airports)] for t in range(num_days)]\n",
    "    for i in range(num_airports):\n",
    "        for j in range(num_airports):\n",
    "            for t in range(num_days):\n",
    "                if i != j:\n",
    "                    curVar = myModel.addVar(vtype = GRB.INTEGER,\n",
    "                                               name = \"L\" + airport_names[i] + airport_names[j] + str(t+1))\n",
    "                    L_Vars[t][i][j] = curVar\n",
    "\n",
    "    # integrate decision variables into the model\n",
    "    myModel.update()\n",
    "    \n",
    "    # create decison variables Si denote starting number of aircrafts at airport i on day 1\n",
    "    S_Vars = [0 for i in range (num_airports)]\n",
    "    for i in range(num_airports):\n",
    "        curVar = myModel.addVar(vtype = GRB.INTEGER,\n",
    "                                   name = \"S\" + airport_names[i])\n",
    "        S_Vars[i] = curVar\n",
    "\n",
    "    # integrate decision variables into the model\n",
    "    myModel.update()\n",
    "    \n",
    "    # create a linear expression for the objective\n",
    "    objExpr = LinExpr()\n",
    "\n",
    "    # add all repositioning cost\n",
    "    for i in range(num_airports):\n",
    "        for j in range(num_airports):\n",
    "            for t in range(num_days):\n",
    "                #if i != j:\n",
    "                    curVar = E_Vars[t][i][j]\n",
    "                    objExpr += repositioning_cost[i][j] * curVar\n",
    "\n",
    "    # add all landing cargo cost:\n",
    "    for i in range(num_airports):\n",
    "        for j in range(num_airports):\n",
    "            for t in range(num_days):\n",
    "                if i != j:\n",
    "                    curVar = L_Vars[t][i][j]\n",
    "                    objExpr += 10 * curVar\n",
    "\n",
    "    myModel.setObjective(objExpr, GRB.MINIMIZE)\n",
    "    \n",
    "    # create constraint so that total number of outflow for airport i at time 1 is equal to starting number Si \n",
    "    for i in range(num_airports):\n",
    "        constExpr = LinExpr()\n",
    "        for j in range(num_airports):\n",
    "            # out of node\n",
    "            curVar = myVars[0][i][j]\n",
    "            constExpr += 1*curVar\n",
    "            #if i != j:\n",
    "            curVar1 = E_Vars[0][i][j]\n",
    "            constExpr += 1*curVar1\n",
    "\n",
    "        myModel.addConstr(lhs = constExpr, sense = GRB.EQUAL, rhs = S_Vars[i], name = \"Monday\"+ 'airport'+ airport_names[i])\n",
    "\n",
    "    myModel.update()\n",
    "    \n",
    "    # create constraint so that total number of outflow for airport i at time t is equal to inflow for airport i at time t \n",
    "    for i in range(num_airports):\n",
    "        for t in range(1,num_days):\n",
    "            constExpr = LinExpr()\n",
    "            for j in range(num_airports):\n",
    "                # out of node\n",
    "                curVar = myVars[t][i][j]\n",
    "                constExpr += 1*curVar\n",
    "                #if i != j:\n",
    "                curVar1 = E_Vars[t][i][j]\n",
    "                constExpr += 1*curVar1\n",
    "                curVar2 = myVars[t-1][j][i]\n",
    "                constExpr -= curVar2\n",
    "                #if i != j:\n",
    "                curVar3 = E_Vars[t-1][j][i]\n",
    "                constExpr -= curVar3\n",
    "\n",
    "            myModel.addConstr(lhs = constExpr, sense = GRB.EQUAL, rhs = 0, name = days[t] + 'airport' + airport_names[i])\n",
    "\n",
    "    myModel.update()\n",
    "    \n",
    "    # create constraint so that total number of inflow for airport i at time 5 is equal to starting number Si \n",
    "    for i in range(num_airports):\n",
    "        constExpr = LinExpr()\n",
    "        for j in range(num_airports):\n",
    "            # out of node\n",
    "            curVar = myVars[4][j][i]\n",
    "            constExpr += 1*curVar\n",
    "            #if i != j:\n",
    "            curVar1 = E_Vars[4][j][i]\n",
    "            constExpr += 1*curVar1\n",
    "\n",
    "        myModel.addConstr(lhs = constExpr, sense = GRB.EQUAL, rhs = S_Vars[i], name = \"EndofWeek\"+ 'airport'+ airport_names[i])\n",
    "\n",
    "    myModel.update()\n",
    "    \n",
    "    # create constraint so that total number of flights is 1200\n",
    "    constExpr = LinExpr()\n",
    "    for i in range(num_airports):\n",
    "        curVar = S_Vars[i]\n",
    "        constExpr += 1*curVar\n",
    "\n",
    "    myModel.addConstr(lhs = constExpr, sense = GRB.EQUAL, rhs = fleet_size, name = \"NumberofAircrafts\")\n",
    "\n",
    "    myModel.update()\n",
    "    \n",
    "    # Create constraint so that number of landing cargos equals amount need to be shipped minus amount really shipped\n",
    "    # for Monday\n",
    "    for i in range(num_airports):\n",
    "        for j in range(num_airports):\n",
    "            if i != j:\n",
    "                constExpr1 = LinExpr()\n",
    "                constExpr2 = LinExpr()\n",
    "                curVar = L_Vars[0][i][j]\n",
    "                curVar0 = L_Vars[4][i][j]\n",
    "                curVar1 = cargo_lst[0][i][j]\n",
    "                curVar2 = myVars[0][i][j]\n",
    "                constExpr1 += 1*curVar - 1*curVar0 + 1*curVar2\n",
    "                constExpr2 += 1*curVar1\n",
    "                myModel.addConstr(lhs = constExpr1, sense = GRB.EQUAL, rhs = constExpr2, name = 'StartLandingCargos'+'Monday'+airport_names[i]+airport_names[j])\n",
    "    \n",
    "    # for Tues,Weds,Thurs\n",
    "    for i in range(num_airports):\n",
    "        for j in range(num_airports):\n",
    "            for t in range(1, num_days):\n",
    "                if i != j:\n",
    "                    constExpr1 = LinExpr()\n",
    "                    constExpr2 = LinExpr()\n",
    "                    curVar = L_Vars[t][i][j]\n",
    "                    curVar0 = L_Vars[t-1][i][j]\n",
    "                    curVar1 = cargo_lst[t][i][j]\n",
    "                    curVar2 = myVars[t][i][j]\n",
    "                    constExpr1 += 1*curVar - 1*curVar0 + 1*curVar2\n",
    "                    constExpr2 += 1*curVar1\n",
    "                    myModel.addConstr(lhs = constExpr1, sense = GRB.EQUAL, rhs = constExpr2, name = 'LandingCargos'+days[t]+airport_names[i]+airport_names[j])\n",
    "    \n",
    "    # optimize the model\n",
    "    myModel.optimize()\n",
    "    \n",
    "    if myModel.status == GRB.OPTIMAL:\n",
    "        return myModel.ObjVal\n",
    "    else:\n",
    "        return 20000\n",
    "    "
   ]
  },
  {
   "cell_type": "code",
   "execution_count": 1775,
   "id": "16b8923c",
   "metadata": {},
   "outputs": [],
   "source": [
    "fleet_size = range(1100,1500,1)"
   ]
  },
  {
   "cell_type": "code",
   "execution_count": null,
   "id": "0a2d05b0",
   "metadata": {
    "scrolled": true
   },
   "outputs": [],
   "source": [
    "all_optimal_soln = []\n",
    "\n",
    "for n in fleet_size:\n",
    "    all_optimal_soln.append(get_optimal_value(n))"
   ]
  },
  {
   "cell_type": "code",
   "execution_count": 1792,
   "id": "541fe094",
   "metadata": {},
   "outputs": [],
   "source": [
    "my_df = pd.DataFrame({\"fleet_size\":fleet_size,\"all_optimal_soln\":all_optimal_soln})"
   ]
  },
  {
   "cell_type": "code",
   "execution_count": 1814,
   "id": "1bc21798",
   "metadata": {
    "scrolled": false
   },
   "outputs": [
    {
     "data": {
      "text/html": [
       "<div>\n",
       "<style scoped>\n",
       "    .dataframe tbody tr th:only-of-type {\n",
       "        vertical-align: middle;\n",
       "    }\n",
       "\n",
       "    .dataframe tbody tr th {\n",
       "        vertical-align: top;\n",
       "    }\n",
       "\n",
       "    .dataframe thead th {\n",
       "        text-align: right;\n",
       "    }\n",
       "</style>\n",
       "<table border=\"1\" class=\"dataframe\">\n",
       "  <thead>\n",
       "    <tr style=\"text-align: right;\">\n",
       "      <th></th>\n",
       "      <th>fleet_size</th>\n",
       "      <th>all_optimal_soln</th>\n",
       "      <th>optimal_1st_diff</th>\n",
       "    </tr>\n",
       "  </thead>\n",
       "  <tbody>\n",
       "    <tr>\n",
       "      <th>0</th>\n",
       "      <td>1100</td>\n",
       "      <td>20000.0</td>\n",
       "      <td>NaN</td>\n",
       "    </tr>\n",
       "    <tr>\n",
       "      <th>1</th>\n",
       "      <td>1101</td>\n",
       "      <td>20000.0</td>\n",
       "      <td>0.0</td>\n",
       "    </tr>\n",
       "    <tr>\n",
       "      <th>2</th>\n",
       "      <td>1102</td>\n",
       "      <td>20000.0</td>\n",
       "      <td>0.0</td>\n",
       "    </tr>\n",
       "    <tr>\n",
       "      <th>3</th>\n",
       "      <td>1103</td>\n",
       "      <td>20000.0</td>\n",
       "      <td>0.0</td>\n",
       "    </tr>\n",
       "    <tr>\n",
       "      <th>4</th>\n",
       "      <td>1104</td>\n",
       "      <td>20000.0</td>\n",
       "      <td>0.0</td>\n",
       "    </tr>\n",
       "  </tbody>\n",
       "</table>\n",
       "</div>"
      ],
      "text/plain": [
       "   fleet_size  all_optimal_soln  optimal_1st_diff\n",
       "0        1100           20000.0               NaN\n",
       "1        1101           20000.0               0.0\n",
       "2        1102           20000.0               0.0\n",
       "3        1103           20000.0               0.0\n",
       "4        1104           20000.0               0.0"
      ]
     },
     "execution_count": 1814,
     "metadata": {},
     "output_type": "execute_result"
    }
   ],
   "source": [
    "my_df.head()"
   ]
  },
  {
   "cell_type": "code",
   "execution_count": 1800,
   "id": "e99cc513",
   "metadata": {},
   "outputs": [
    {
     "data": {
      "image/png": "[encoded data removed]",
      "text/plain": [
       "<Figure size 432x288 with 1 Axes>"
      ]
     },
     "metadata": {
      "needs_background": "light"
     },
     "output_type": "display_data"
    }
   ],
   "source": [
    "sns.scatterplot(x=\"fleet_size\", y=\"all_optimal_soln\", data=my_df)\n",
    "plt.xlabel('Number of aircrafts')\n",
    "plt.ylabel('Optimal cost')\n",
    "plt.title('Fleet size vs. Total cost')\n",
    "plt.show()"
   ]
  },
  {
   "cell_type": "code",
   "execution_count": 1801,
   "id": "497f2b06",
   "metadata": {},
   "outputs": [],
   "source": [
    "my_df['optimal_1st_diff'] = my_df['all_optimal_soln'].diff()"
   ]
  },
  {
   "cell_type": "code",
   "execution_count": 1802,
   "id": "4fa1a0e1",
   "metadata": {},
   "outputs": [
    {
     "data": {
      "text/html": [
       "<div>\n",
       "<style scoped>\n",
       "    .dataframe tbody tr th:only-of-type {\n",
       "        vertical-align: middle;\n",
       "    }\n",
       "\n",
       "    .dataframe tbody tr th {\n",
       "        vertical-align: top;\n",
       "    }\n",
       "\n",
       "    .dataframe thead th {\n",
       "        text-align: right;\n",
       "    }\n",
       "</style>\n",
       "<table border=\"1\" class=\"dataframe\">\n",
       "  <thead>\n",
       "    <tr style=\"text-align: right;\">\n",
       "      <th></th>\n",
       "      <th>fleet_size</th>\n",
       "      <th>all_optimal_soln</th>\n",
       "      <th>optimal_1st_diff</th>\n",
       "    </tr>\n",
       "  </thead>\n",
       "  <tbody>\n",
       "    <tr>\n",
       "      <th>0</th>\n",
       "      <td>1100</td>\n",
       "      <td>20000.0</td>\n",
       "      <td>NaN</td>\n",
       "    </tr>\n",
       "    <tr>\n",
       "      <th>1</th>\n",
       "      <td>1101</td>\n",
       "      <td>20000.0</td>\n",
       "      <td>0.0</td>\n",
       "    </tr>\n",
       "    <tr>\n",
       "      <th>2</th>\n",
       "      <td>1102</td>\n",
       "      <td>20000.0</td>\n",
       "      <td>0.0</td>\n",
       "    </tr>\n",
       "    <tr>\n",
       "      <th>3</th>\n",
       "      <td>1103</td>\n",
       "      <td>20000.0</td>\n",
       "      <td>0.0</td>\n",
       "    </tr>\n",
       "    <tr>\n",
       "      <th>4</th>\n",
       "      <td>1104</td>\n",
       "      <td>20000.0</td>\n",
       "      <td>0.0</td>\n",
       "    </tr>\n",
       "  </tbody>\n",
       "</table>\n",
       "</div>"
      ],
      "text/plain": [
       "   fleet_size  all_optimal_soln  optimal_1st_diff\n",
       "0        1100           20000.0               NaN\n",
       "1        1101           20000.0               0.0\n",
       "2        1102           20000.0               0.0\n",
       "3        1103           20000.0               0.0\n",
       "4        1104           20000.0               0.0"
      ]
     },
     "execution_count": 1802,
     "metadata": {},
     "output_type": "execute_result"
    }
   ],
   "source": [
    "my_df.head()"
   ]
  },
  {
   "cell_type": "code",
   "execution_count": 1805,
   "id": "b0326f1e",
   "metadata": {},
   "outputs": [
    {
     "name": "stderr",
     "output_type": "stream",
     "text": [
      "/Users/houruize/anaconda/lib/python3.8/site-packages/numpy/core/fromnumeric.py:57: FutureWarning: \n",
      "The current behaviour of 'Series.argmax' is deprecated, use 'idxmax'\n",
      "instead.\n",
      "The behavior of 'argmax' will be corrected to return the positional\n",
      "maximum in the future. For now, use 'series.values.argmax' or\n",
      "'np.argmax(np.array(values))' to get the position of the maximum\n",
      "row.\n",
      "  return bound(*args, **kwds)\n"
     ]
    },
    {
     "data": {
      "text/plain": [
       "30"
      ]
     },
     "execution_count": 1805,
     "metadata": {},
     "output_type": "execute_result"
    }
   ],
   "source": [
    "np.argmax(my_df['optimal_1st_diff'])"
   ]
  },
  {
   "cell_type": "code",
   "execution_count": 1809,
   "id": "33a3addb",
   "metadata": {},
   "outputs": [
    {
     "data": {
      "text/plain": [
       "fleet_size           1130.0\n",
       "all_optimal_soln    20525.0\n",
       "optimal_1st_diff      525.0\n",
       "Name: 30, dtype: float64"
      ]
     },
     "execution_count": 1809,
     "metadata": {},
     "output_type": "execute_result"
    }
   ],
   "source": [
    "my_df.loc[30]"
   ]
  },
  {
   "cell_type": "code",
   "execution_count": 1815,
   "id": "67bb22c4",
   "metadata": {},
   "outputs": [
    {
     "data": {
      "image/png": "[encoded data removed]",
      "text/plain": [
       "<Figure size 432x288 with 1 Axes>"
      ]
     },
     "metadata": {
      "needs_background": "light"
     },
     "output_type": "display_data"
    }
   ],
   "source": [
    "sns.scatterplot(x=\"fleet_size\", y=\"optimal_1st_diff\", data=my_df[31:])\n",
    "plt.xlabel('Number of aircrafts')\n",
    "plt.ylabel('Decreased cost')\n",
    "plt.title('Fleet size vs. 1-step decreased cost')\n",
    "plt.show()"
   ]
  },
  {
   "cell_type": "code",
   "execution_count": 1779,
   "id": "e9aa1da8",
   "metadata": {},
   "outputs": [],
   "source": [
    "#dir(myModel)"
   ]
  },
  {
   "cell_type": "code",
   "execution_count": 1762,
   "id": "0c32a5df",
   "metadata": {},
   "outputs": [
    {
     "data": {
      "text/plain": [
       "2"
      ]
     },
     "execution_count": 1762,
     "metadata": {},
     "output_type": "execute_result"
    }
   ],
   "source": [
    "myModel.Status"
   ]
  },
  {
   "cell_type": "code",
   "execution_count": 1763,
   "id": "ba1fdb7b",
   "metadata": {},
   "outputs": [
    {
     "data": {
      "text/plain": [
       "2"
      ]
     },
     "execution_count": 1763,
     "metadata": {},
     "output_type": "execute_result"
    }
   ],
   "source": [
    "GRB.OPTIMAL"
   ]
  }
 ],
 "metadata": {
  "kernelspec": {
   "display_name": "Python 3",
   "language": "python",
   "name": "python3"
  },
  "language_info": {
   "codemirror_mode": {
    "name": "ipython",
    "version": 3
   },
   "file_extension": ".py",
   "mimetype": "text/x-python",
   "name": "python",
   "nbconvert_exporter": "python",
   "pygments_lexer": "ipython3",
   "version": "3.8.8"
  }
 },
 "nbformat": 4,
 "nbformat_minor": 5
}
